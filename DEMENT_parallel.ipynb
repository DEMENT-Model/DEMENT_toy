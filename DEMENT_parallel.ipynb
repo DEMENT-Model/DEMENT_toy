{
  "nbformat": 4,
  "nbformat_minor": 0,
  "metadata": {
    "colab": {
      "name": "DEMENT_parallel.ipynb",
      "provenance": [],
      "collapsed_sections": [],
      "authorship_tag": "ABX9TyOgGAsvmIEVqr70vRk5tHGg",
      "include_colab_link": true
    },
    "kernelspec": {
      "name": "python3",
      "display_name": "Python 3"
    },
    "language_info": {
      "name": "python"
    }
  },
  "cells": [
    {
      "cell_type": "markdown",
      "metadata": {
        "id": "view-in-github",
        "colab_type": "text"
      },
      "source": [
        "<a href=\"https://colab.research.google.com/github/Luciana-cloud/DEMENT_toy/blob/main/DEMENT_parallel.ipynb\" target=\"_parent\"><img src=\"https://colab.research.google.com/assets/colab-badge.svg\" alt=\"Open In Colab\"/></a>"
      ]
    },
    {
      "cell_type": "code",
      "execution_count": 1,
      "metadata": {
        "id": "1moz4A4z_NFG"
      },
      "outputs": [],
      "source": [
        "#..Load modules\n",
        "import os\n",
        "import sys\n",
        "import pandas as pd\n",
        "import numpy  as np\n",
        "import matplotlib.pyplot as plt\n",
        "from plotnine import *\n",
        "\n",
        "\n",
        "from initialization import initialize_data\n",
        "from grid import Grid\n",
        "from output import Output\n",
        "from utility import export\n",
        "\n",
        "input_folder  = \"input\"   # input folder name\n",
        "#...Set up the working directory\n",
        "os.chdir(input_folder)"
      ]
    },
    {
      "cell_type": "code",
      "source": [
        "import joblib\n",
        "from joblib import Parallel, delayed"
      ],
      "metadata": {
        "id": "I1U6yV11BeHp"
      },
      "execution_count": 2,
      "outputs": []
    },
    {
      "cell_type": "code",
      "source": [
        "def dement(outname, random_seed):\n",
        "    #outname_t[i]  = \"20220221\" + str(int(i))    # output file name and seed of Pseudo-RNG + \"20220211\"\n",
        "    input_folder  = \"input\"   # input folder name \n",
        "    output_folder = \"output\"  # output folder name\n",
        "    #outname       = outname_t[i]\n",
        "    #outname       = \"20220131\"   # output file name and seed of Pseudo-RNG\n",
        "    #...Set up the working directory\n",
        "    #  os.chdir(input_folder)\n",
        "    #...seed the pseudorandom number generator\n",
        "    np.random.seed(random_seed)\n",
        "\n",
        "    #...a few system constants\n",
        "    runtime    = pd.read_csv('runtime.txt',header=None,index_col=0,sep='\\t')\n",
        "    pulse      = int(runtime.loc['pulse',1])         # number of pulses\n",
        "    cycle      = int(runtime.loc['end_time',1])      # number of time steps in each pulse\n",
        "    interval   = int(runtime.loc['interval',1])      # interval of time step to record outputs\n",
        "    mic_reinit = True    # indicate reinitialization of microbial community\n",
        "\n",
        "    #...Initialize data by calling the Function: Initialize_Data()\n",
        "    data_initialization = initialize_data(runtime)\n",
        "\n",
        "    #...Prepare for output by creating an instance of the Output class\n",
        "    Output_init = Output(runtime,data_initialization)\n",
        "\n",
        "    #...Create an instance of the Grid class\n",
        "    Ecosystem = Grid(runtime,data_initialization)\n",
        "\n",
        "    #...Run the model\n",
        "    for p in range(pulse):\n",
        "    \n",
        "        for i in range(p*cycle, (p+1)*cycle):\n",
        "    \n",
        "            # substrates degradation\n",
        "            Ecosystem.degradation(p,i)\n",
        "\n",
        "            # monomers uptake\n",
        "            Ecosystem.uptake(p,i)\n",
        "\n",
        "            # microbial metabolism\n",
        "            Ecosystem.metabolism(i)\n",
        "\n",
        "            # microbial death\n",
        "            Ecosystem.mortality(i)\n",
        "\n",
        "            # microbial reproduction and dispersal\n",
        "            Ecosystem.reproduction(i)\n",
        "    \n",
        "            # output data using the \"output\" method in the Output class\n",
        "            if i == 0:\n",
        "                Output_init.output(Ecosystem,i)  # day 1\n",
        "            elif i%interval==interval-1:\n",
        "                Output_init.output(Ecosystem,i)  # interval\n",
        "        \n",
        "            # if only 1 pusle, skip all following lines within this loop\n",
        "            #if pulse == 1:\n",
        "            #    continue\n",
        "\n",
        "            # output microbial mass of every iteration using the \"microbes_df\" method in the Output class\n",
        "            Output_init.microbes_abundance(Ecosystem,i)\n",
        "\n",
        "            # re-initialize microbial community in each new pulse\n",
        "            if i == (p+1)*cycle-1:\n",
        "                Ecosystem.repopulation(Output_init,i,mic_reinit)\n",
        "\n",
        "    return Output_init\n",
        "\n",
        "results = Parallel(n_jobs=4)(delayed(dement)(\"20220221\" + str(int(i)),i) for i in range(5))"
      ],
      "metadata": {
        "id": "CMcoC1lTBhR6"
      },
      "execution_count": 3,
      "outputs": []
    },
    {
      "cell_type": "code",
      "source": [
        "import pickle\n",
        "output = open('/content/output/results_dement.pkl', 'wb')\n",
        "pickle.dump(results, output)\n",
        "output.close()"
      ],
      "metadata": {
        "id": "RDT58kEXVRgO"
      },
      "execution_count": 4,
      "outputs": []
    }
  ]
}