{
  "cells": [
    {
      "cell_type": "markdown",
      "metadata": {
        "id": "view-in-github",
        "colab_type": "text"
      },
      "source": [
        "<a href=\"https://colab.research.google.com/github/Luciana-cloud/DEMENT_toy/blob/main/DEMENT_Test_A.ipynb\" target=\"_parent\"><img src=\"https://colab.research.google.com/assets/colab-badge.svg\" alt=\"Open In Colab\"/></a>"
      ]
    },
    {
      "cell_type": "markdown",
      "metadata": {
        "id": "Y44OrFl-uC0b"
      },
      "source": [
        "Before starting the simulation, upload all the python scripts from the src directory of DEMENT. Then, create input and output directories. Upload the input files (climate.csv, enzyme_ea.csv, etc.) into the input folder.\n",
        "Choose the original grid and output file.\n",
        "The seed for the data: 20220211"
      ]
    },
    {
      "cell_type": "markdown",
      "metadata": {
        "id": "9AOXv5NIlRsu"
      },
      "source": [
        "# PRELIMINARY RUNS WITH DEMENT"
      ]
    },
    {
      "cell_type": "markdown",
      "metadata": {
        "id": "THOl7alXH0r4"
      },
      "source": [
        "50 Simulations of litter degradation, assuming 1/10 of the initial litter concentrations set in the original DEMENT. I assumed a simple community with 10 taxa for 3 years, and with only one entry of litter. The idea would be to use these outputs to get mean values to use for project 3 (potential calibration) and project 2 (getting values of the taxa to parameterize using the three methods of my ptt)."
      ]
    },
    {
      "cell_type": "markdown",
      "metadata": {
        "id": "sXanfKb0okMb"
      },
      "source": [
        "Importing the necessary modules and setting the working directory to input_folder. We run this once and we do not have to do it again, unless we want to rerun from zero again, and for that, we go to \"Laufzeit\" -- \"Laufzeit neu starten\""
      ]
    },
    {
      "cell_type": "code",
      "execution_count": null,
      "metadata": {
        "id": "29kPxxd4T-JY"
      },
      "outputs": [],
      "source": [
        "#..Load modules\n",
        "import os\n",
        "import sys\n",
        "import pandas as pd\n",
        "import numpy  as np\n",
        "import matplotlib.pyplot as plt\n",
        "from plotnine import *\n",
        "\n",
        "\n",
        "from initialization import initialize_data\n",
        "from grid import Grid\n",
        "from output import Output\n",
        "from utility import export\n",
        "\n",
        "input_folder  = \"input\"   # input folder name\n",
        "#...Set up the working directory\n",
        "os.chdir(input_folder)"
      ]
    },
    {
      "cell_type": "markdown",
      "metadata": {
        "id": "3rsLot5DpBJa"
      },
      "source": [
        "Run the loop. Set t to the number of simulations needed. The file will save the outcomes and the parameters."
      ]
    },
    {
      "cell_type": "code",
      "execution_count": null,
      "metadata": {
        "colab": {
          "base_uri": "https://localhost:8080/"
        },
        "id": "d6yoxierJBt8",
        "outputId": "e0e16c35-c831-41ae-f4ba-d3387fc09fff"
      },
      "outputs": [
        {
          "output_type": "stream",
          "name": "stdout",
          "text": [
            "Before placement-- Bac_taxa= 10 Fun_taxa= 0\n",
            "After placement-- Bac_taxa= 6 Fun_taxa= 0\n",
            "After placement-- Bac_density= 0.09 Fun_density= 0.0\n",
            "Before placement-- Bac_taxa= 10 Fun_taxa= 0\n",
            "After placement-- Bac_taxa= 5 Fun_taxa= 0\n",
            "After placement-- Bac_density= 0.07 Fun_density= 0.0\n",
            "Before placement-- Bac_taxa= 10 Fun_taxa= 0\n",
            "After placement-- Bac_taxa= 6 Fun_taxa= 0\n",
            "After placement-- Bac_density= 0.08 Fun_density= 0.0\n",
            "Before placement-- Bac_taxa= 10 Fun_taxa= 0\n",
            "After placement-- Bac_taxa= 9 Fun_taxa= 0\n",
            "After placement-- Bac_density= 0.19 Fun_density= 0.0\n",
            "Before placement-- Bac_taxa= 10 Fun_taxa= 0\n",
            "After placement-- Bac_taxa= 3 Fun_taxa= 0\n",
            "After placement-- Bac_density= 0.04 Fun_density= 0.0\n",
            "Before placement-- Bac_taxa= 10 Fun_taxa= 0\n",
            "After placement-- Bac_taxa= 8 Fun_taxa= 0\n",
            "After placement-- Bac_density= 0.11 Fun_density= 0.0\n",
            "Before placement-- Bac_taxa= 10 Fun_taxa= 0\n",
            "After placement-- Bac_taxa= 5 Fun_taxa= 0\n",
            "After placement-- Bac_density= 0.06 Fun_density= 0.0\n",
            "Before placement-- Bac_taxa= 10 Fun_taxa= 0\n",
            "After placement-- Bac_taxa= 4 Fun_taxa= 0\n",
            "After placement-- Bac_density= 0.07 Fun_density= 0.0\n",
            "Before placement-- Bac_taxa= 10 Fun_taxa= 0\n",
            "After placement-- Bac_taxa= 8 Fun_taxa= 0\n",
            "After placement-- Bac_density= 0.11 Fun_density= 0.0\n",
            "Before placement-- Bac_taxa= 10 Fun_taxa= 0\n",
            "After placement-- Bac_taxa= 5 Fun_taxa= 0\n",
            "After placement-- Bac_density= 0.06 Fun_density= 0.0\n"
          ]
        }
      ],
      "source": [
        "# Test of looping\n",
        "\n",
        "t  = np.linspace(1,100,100)\n",
        "\n",
        "outname_t     = {} \n",
        "respiration   = [] # 1\n",
        "substrate     = []\n",
        "monomer       = []\n",
        "CUE           = []\n",
        "enzyme        = []\n",
        "microbes      = []\n",
        "Uptake_Vmax0  = []\n",
        "UptakeGenes   = [] # 8\n",
        "Uptake_Km0    = []\n",
        "EnzProdConsti_trait  = []\n",
        "EnzProdInduci_trait  = []\n",
        "OsmoProdConsti_trait = []\n",
        "OsmoProdInduci_trait = []\n",
        "OsmoGenes  = []\n",
        "EnzGenes   = [] # 15\n",
        "Vmax0      = []\n",
        "Km0        = []\n",
        "UptakeGenes_trait  = []\n",
        "UptakeGenesCost    = []\n",
        "TaxDroughtTol      = []\n",
        "Microbes           = [] # 21\n",
        "Microbes_pp        = []\n",
        "MinRatios          = [] # 23\n",
        "ReqEnz_dfA         = [] # 24\n",
        "\n",
        "for i in t:\n",
        "  out1 = {}\n",
        "  out2 = {}\n",
        "  out3 = {}\n",
        "  out4 = {}\n",
        "  out5 = {}\n",
        "  out6 = {}\n",
        "  out7 = {}\n",
        "  out8 = {} #\n",
        "  out9 = {} #\n",
        "  out10 = {} #\n",
        "  out11 = {} #\n",
        "  out12 = {} #\n",
        "  out13 = {} #\n",
        "  out14 = {} #\n",
        "  out15 = {} # \n",
        "  out16 = {} #\n",
        "  out17 = {} #\n",
        "  out18 = {} #\n",
        "  out19 = {} #\n",
        "  out20 = {} #\n",
        "  out21 = {} #\n",
        "  out22 = {} #\n",
        "  out23 = {} #\n",
        "  out24 = {} #\n",
        "  outname_t[i]  = \"20220221\" + str(int(i))    # output file name and seed of Pseudo-RNG + \"20220211\"\n",
        "  input_folder  = \"input\"   # input folder name \n",
        "  output_folder = \"output\"  # output folder name\n",
        "  outname       = outname_t[i]\n",
        "#outname       = \"20220131\"   # output file name and seed of Pseudo-RNG\n",
        "#...Set up the working directory\n",
        "#  os.chdir(input_folder)\n",
        "  #...seed the pseudorandom number generator\n",
        "  np.random.seed(int(outname[:]))\n",
        "\n",
        "#...a few system constants\n",
        "  runtime    = pd.read_csv('runtime.txt',header=None,index_col=0,sep='\\t')\n",
        "  pulse      = int(runtime.loc['pulse',1])         # number of pulses\n",
        "  cycle      = int(runtime.loc['end_time',1])      # number of time steps in each pulse\n",
        "  interval   = int(runtime.loc['interval',1])      # interval of time step to record outputs\n",
        "  mic_reinit = True    # indicate reinitialization of microbial community\n",
        "\n",
        "#...Initialize data by calling the Function: Initialize_Data()\n",
        "  data_initialization = initialize_data(runtime)\n",
        "\n",
        "#...Prepare for output by creating an instance of the Output class\n",
        "  Output_init = Output(runtime,data_initialization)\n",
        "\n",
        "#...Create an instance of the Grid class\n",
        "  Ecosystem = Grid(runtime,data_initialization)\n",
        "\n",
        "  #...Run the model\n",
        "  for p in range(pulse):\n",
        "    \n",
        "      for i in range(p*cycle, (p+1)*cycle):\n",
        "    \n",
        "        # substrates degradation\n",
        "          Ecosystem.degradation(p,i)\n",
        "    \n",
        "        # monomers uptake\n",
        "          Ecosystem.uptake(p,i)\n",
        "    \n",
        "        # microbial metabolism\n",
        "          Ecosystem.metabolism(i)\n",
        "    \n",
        "        # microbial death\n",
        "          Ecosystem.mortality(i)\n",
        "    \n",
        "        # microbial reproduction and dispersal\n",
        "          Ecosystem.reproduction(i)\n",
        "    \n",
        "        # output data using the \"output\" method in the Output class\n",
        "          if i == 0:\n",
        "              Output_init.output(Ecosystem,i)  # day 1\n",
        "          elif i%interval==interval-1:\n",
        "              Output_init.output(Ecosystem,i)  # interval\n",
        "        \n",
        "        # if only 1 pusle, skip all following lines within this loop\n",
        "        #if pulse == 1:\n",
        "        #    continue\n",
        "        \n",
        "        # output microbial mass of every iteration using the \"microbes_df\" method in the Output class\n",
        "          Output_init.microbes_abundance(Ecosystem,i)\n",
        "        \n",
        "        # re-initialize microbial community in each new pulse\n",
        "          if i == (p+1)*cycle-1:\n",
        "              Ecosystem.repopulation(Output_init,i,mic_reinit)\n",
        "\n",
        "# Look at the time-series of respiration\n",
        "  out1[i] = Output_init.RespSeries\n",
        "  out2[i] = Output_init.SubstratesSeries\n",
        "  out3[i] = Output_init.MonomersSeries\n",
        "  out4[i] = Output_init.CUE_system\n",
        "  out5[i] = Output_init.EnzymesSeries\n",
        "  out6[i] = Output_init.MicrobesSeries\n",
        "  out7[i] = Output_init.Initialization[\"Uptake_Vmax0\"] #\n",
        "  out8[i] = Output_init.Initialization[\"UptakeGenes\"]\n",
        "  out9[i] = Output_init.Initialization[\"Uptake_Km0\"]\n",
        "  out10[i] = Output_init.Initialization[\"EnzProdConsti_trait\"]\n",
        "  out11[i] = Output_init.Initialization[\"EnzProdInduci_trait\"]\n",
        "  out12[i] = Output_init.Initialization[\"OsmoProdConsti_trait\"]\n",
        "  out13[i] = Output_init.Initialization[\"OsmoProdInduci_trait\"]\n",
        "  out14[i] = Output_init.Initialization[\"OsmoGenes\"]\n",
        "  out15[i] = Output_init.Initialization[\"EnzGenes\"]\n",
        "  out16[i] = Output_init.Initialization[\"Vmax0\"]\n",
        "  out17[i] = Output_init.Initialization[\"Km0\"]\n",
        "  out18[i] = Output_init.Initialization[\"UptakeGenes_trait\"]\n",
        "  out19[i] = Output_init.Initialization[\"UptakeGenesCost\"]\n",
        "  out20[i] = Output_init.Initialization[\"TaxDroughtTol\"]\n",
        "  out21[i] = Output_init.Initialization[\"Microbes\"]\n",
        "  out22[i] = Output_init.Initialization[\"Microbes_pp\"]\n",
        "  out23[i] = Output_init.Initialization[\"MinRatios\"]\n",
        "  out24[i] = Output_init.Initialization[\"ReqEnz\"]\n",
        "\n",
        "  #print(Output_init.RespSeries)\n",
        "  respiration.append(out1)\n",
        "  substrate.append(out2)\n",
        "  monomer.append(out3)\n",
        "  CUE.append(out4)\n",
        "  enzyme.append(out5)\n",
        "  microbes.append(out6)\n",
        "  Uptake_Vmax0.append(out7)\n",
        "  UptakeGenes.append(out8)\n",
        "  Uptake_Km0.append(out9)\n",
        "  EnzProdConsti_trait.append(out10)\n",
        "  EnzProdInduci_trait.append(out11)\n",
        "  OsmoProdConsti_trait.append(out12)\n",
        "  OsmoProdInduci_trait.append(out13)\n",
        "  OsmoGenes.append(out14)\n",
        "  EnzGenes.append(out15)\n",
        "  Vmax0.append(out16)\n",
        "  Km0.append(out17)\n",
        "  UptakeGenes_trait.append(out18)\n",
        "  UptakeGenesCost.append(out19)\n",
        "  TaxDroughtTol.append(out20)\n",
        "  Microbes.append(out21)\n",
        "  Microbes_pp.append(out22)\n",
        "  MinRatios.append(out23)\n",
        "  ReqEnz_dfA.append(out24)\n",
        "\n",
        "  #if i==1:\n",
        "    #breakpoint()"
      ]
    },
    {
      "cell_type": "markdown",
      "source": [
        "#**MODEL OUTPUTS**"
      ],
      "metadata": {
        "id": "UpdIgBr0FOeb"
      }
    },
    {
      "cell_type": "code",
      "source": [
        "  Res  = respiration # Output respiration *\n",
        "  Sub  = substrate   # Substrate output *\n",
        "  Mon  = monomer     # Monomer output\n",
        "  CUEf = CUE         # CUE *\n",
        "  Enz  = enzyme      # Enzymes\n",
        "  Biom = microbes    # Microbial Biomass *"
      ],
      "metadata": {
        "id": "Vy5PoUpSFOBO"
      },
      "execution_count": null,
      "outputs": []
    },
    {
      "cell_type": "markdown",
      "source": [
        "**TOTAL RESPIRATION**"
      ],
      "metadata": {
        "id": "UyFZZsTCGeHi"
      }
    },
    {
      "cell_type": "code",
      "source": [
        "from pandas import Series\n",
        "tt        = np.linspace(0,len(t)-1,len(t)) # Number of repetitions = 10\n",
        "time      = np.linspace(0,1095,1096)\n",
        "Respi_tot = {}\n",
        "type(Res)\n",
        "for i in tt:\n",
        "  Respi_tot[\"Run\"+str(int(i)+1)] = Res[int(i)][1094]\n",
        "\n",
        "res_tempo  = list(Respi_tot.values())\n",
        "Respi_mean = (np.array(res_tempo).mean(axis=0))\n",
        "respiration_5  = np.percentile(res_tempo,5,axis=0)\n",
        "respiration_95 = np.percentile(res_tempo,95,axis=0)\n",
        "\n",
        "#fig, ax = plt.subplots()\n",
        "\n",
        "#ax.fill_between(time,respiration_5,respiration_95, alpha=.5, linewidth=0,label=\"95% CI\")\n",
        "#ax.plot(time,Respi_mean, linewidth=2,label=\"Mean\")\n",
        "\n",
        "#plt.xlabel('Time (d)') \n",
        "#plt.ylabel('Respiration ($mg$ $cm^{-3}$)') \n",
        "#plt.title('Total average respiration') \n",
        "#ax.legend()\n",
        "#fig.show()"
      ],
      "metadata": {
        "colab": {
          "base_uri": "https://localhost:8080/",
          "height": 295
        },
        "id": "DcHrxrDVGdmd",
        "outputId": "6f97fd12-34ae-4081-e1e6-45470a4bb7e6"
      },
      "execution_count": 79,
      "outputs": [
        {
          "output_type": "display_data",
          "data": {
            "image/png": "[encoded data removed]",
            "text/plain": [
              "<Figure size 432x288 with 1 Axes>"
            ]
          },
          "metadata": {
            "needs_background": "light"
          }
        }
      ]
    },
    {
      "cell_type": "code",
      "source": [
        "np.savetxt('/content/output/respiration_Mean.csv',Respi_mean,delimiter=\",\")\n",
        "np.savetxt('/content/output/respiration_5.csv',respiration_5,delimiter=\",\")\n",
        "np.savetxt('/content/output/respiration_95.csv',respiration_95,delimiter=\",\")"
      ],
      "metadata": {
        "id": "JEMqXSBhq5QO"
      },
      "execution_count": 80,
      "outputs": []
    },
    {
      "cell_type": "markdown",
      "source": [
        "**CUE**"
      ],
      "metadata": {
        "id": "zJ6dwd5wc9K8"
      }
    },
    {
      "cell_type": "code",
      "source": [
        "from pandas import Series\n",
        "tt        = np.linspace(0,len(t)-1,len(t)) # Number of repetitions = 10\n",
        "time      = np.linspace(0,1095,1096)\n",
        "CUE_tot   = {}\n",
        "\n",
        "for i in tt:\n",
        "  CUE_tot[\"Run\"+str(int(i)+1)] = CUEf[int(i)][1094]\n",
        "\n",
        "CUE_tempo   = list(CUE_tot.values())\n",
        "CUE_mean    = (np.array(CUE_tempo).mean(axis=0))\n",
        "CUE_5       = np.percentile(CUE_tempo,5,axis=0)\n",
        "CUE_95      = np.percentile(CUE_tempo,95,axis=0)\n",
        "\n",
        "#fig, ax = plt.subplots()\n",
        "\n",
        "#ax.fill_between(time,CUE_5,CUE_95, alpha=.5, linewidth=0,label=\"95% CI\")\n",
        "#ax.plot(time,CUE_mean, linewidth=2,label=\"Mean\")\n",
        "\n",
        "#plt.xlabel('Time (d)') \n",
        "#plt.ylabel('CUE') \n",
        "#plt.title('CUE') \n",
        "#ax.legend()\n",
        "#fig.show()"
      ],
      "metadata": {
        "colab": {
          "base_uri": "https://localhost:8080/",
          "height": 295
        },
        "id": "5x_RCDvxc-YE",
        "outputId": "78970241-6e98-4424-c921-a2892f749171"
      },
      "execution_count": 89,
      "outputs": [
        {
          "output_type": "display_data",
          "data": {
            "image/png": "[encoded data removed]",
            "text/plain": [
              "<Figure size 432x288 with 1 Axes>"
            ]
          },
          "metadata": {
            "needs_background": "light"
          }
        }
      ]
    },
    {
      "cell_type": "code",
      "source": [
        "np.savetxt('/content/output/CUE_mean.csv',CUE_mean,delimiter=\",\")\n",
        "np.savetxt('/content/output/CUE_5.csv',CUE_5,delimiter=\",\")\n",
        "np.savetxt('/content/output/CUE_95.csv',CUE_95,delimiter=\",\")"
      ],
      "metadata": {
        "id": "4HoeQjovsk00"
      },
      "execution_count": 81,
      "outputs": []
    },
    {
      "cell_type": "markdown",
      "source": [
        "**TOTAL SUBSTRATE**"
      ],
      "metadata": {
        "id": "wJ2_E2OxeWIt"
      }
    },
    {
      "cell_type": "markdown",
      "source": [
        "Substrate degradation"
      ],
      "metadata": {
        "id": "9D-wA7uM6Ame"
      }
    },
    {
      "cell_type": "code",
      "source": [
        "Sub  = substrate   # Substrate output\n",
        "type(Sub)\n",
        "len(Sub)\n",
        "a = (Sub[0][1094])\n",
        "\n",
        "tt        = np.linspace(0,len(t)-1,len(t)) # Number of repetitions = 10\n",
        "time      = np.linspace(0,1095,1096)\n",
        "Subst_tot = {}\n",
        "\n",
        "for i in tt:\n",
        "  Subst_tot[\"Run\"+str(int(i)+1)] = Sub[int(i)][1094]\n",
        "\n",
        "Sub_tempo   = list(Subst_tot.values())\n",
        "Sub_sum     = np.mean((np.array(Sub_tempo).sum(axis=1)),axis=0)\n",
        "Sub_05      = np.percentile((np.array(Sub_tempo).sum(axis=1)),5,axis=0)\n",
        "Sub_95      = np.percentile((np.array(Sub_tempo).sum(axis=1)),95,axis=0)\n",
        "\n",
        "#fig, ax = plt.subplots()\n",
        "\n",
        "#ax.fill_between(time,Sub_05,Sub_95, alpha=.5, linewidth=0,label=\"95% CI\")\n",
        "#ax.plot(time,Sub_sum, linewidth=2,label=\"Mean\")\n",
        "\n",
        "#plt.xlabel('Time (d)') \n",
        "#plt.ylabel('Total substrate concentration ($mg$ $cm^{-3}$)') \n",
        "#plt.title('Total average substrate concentration') \n",
        "#ax.legend(loc=\"lower left\")\n",
        "#fig.show()"
      ],
      "metadata": {
        "colab": {
          "base_uri": "https://localhost:8080/",
          "height": 295
        },
        "id": "EXCK74qRemxR",
        "outputId": "12257409-2446-42c7-b9b4-f56477fca1a4"
      },
      "execution_count": null,
      "outputs": [
        {
          "output_type": "display_data",
          "data": {
            "image/png": "[encoded data removed]",
            "text/plain": [
              "<Figure size 432x288 with 1 Axes>"
            ]
          },
          "metadata": {
            "needs_background": "light"
          }
        }
      ]
    },
    {
      "cell_type": "code",
      "source": [
        "np.savetxt('/content/output/mean_total_substrate.csv',Sub_sum,delimiter=\",\")\n",
        "np.savetxt('/content/output/p05_total_substrate.csv',Sub_05,delimiter=\",\")\n",
        "np.savetxt('/content/output/p95_total_substrate.csv',Sub_95,delimiter=\",\")"
      ],
      "metadata": {
        "id": "VFaSMrmStY3a"
      },
      "execution_count": 82,
      "outputs": []
    },
    {
      "cell_type": "markdown",
      "source": [
        "Substrate mass loss"
      ],
      "metadata": {
        "id": "DLU-7pzg6DqB"
      }
    },
    {
      "cell_type": "code",
      "source": [
        "Sub_std     = np.std((np.array(Sub_tempo).sum(axis=1)),axis=0)\n",
        "\n",
        "#plt.errorbar(time,(Sub_sum[0]-Sub_sum)*100/Sub_sum[0],yerr=(Sub_std[0]-Sub_std)*100/Sub_std[0],linewidth=2,label=\"Mean\")\n",
        "\n",
        "#plt.xlabel('Time (d)') \n",
        "#plt.ylabel('%') \n",
        "#plt.title('Mean substrate loss') \n",
        "#plt.legend(loc=\"upper left\")\n",
        "#plt.show()\n"
      ],
      "metadata": {
        "colab": {
          "base_uri": "https://localhost:8080/",
          "height": 368
        },
        "id": "wtAXcrzf1mn1",
        "outputId": "0bb3e5d8-a0f4-4af4-ddea-adaed773a184"
      },
      "execution_count": null,
      "outputs": [
        {
          "output_type": "stream",
          "name": "stderr",
          "text": [
            "/usr/local/lib/python3.7/dist-packages/ipykernel_launcher.py:3: RuntimeWarning: divide by zero encountered in true_divide\n",
            "  This is separate from the ipykernel package so we can avoid doing imports until\n",
            "/usr/local/lib/python3.7/dist-packages/ipykernel_launcher.py:3: RuntimeWarning: invalid value encountered in true_divide\n",
            "  This is separate from the ipykernel package so we can avoid doing imports until\n"
          ]
        },
        {
          "output_type": "display_data",
          "data": {
            "image/png": "[encoded data removed]",
            "text/plain": [
              "<Figure size 432x288 with 1 Axes>"
            ]
          },
          "metadata": {
            "needs_background": "light"
          }
        }
      ]
    },
    {
      "cell_type": "code",
      "source": [
        "sub_loss = (Sub_sum[0]-Sub_sum)*100/Sub_sum[0]\n",
        "yerr     = (Sub_std[0]-Sub_std)*100/Sub_std[0]\n",
        "np.savetxt('/content/output/substrate_loss.csv',sub_loss,delimiter=\",\")\n",
        "np.savetxt('/content/output/substrate_error.csv',yerr,delimiter=\",\")"
      ],
      "metadata": {
        "colab": {
          "base_uri": "https://localhost:8080/"
        },
        "id": "WZxh2B9Wt43Q",
        "outputId": "0e8d2e0d-7ab4-41db-91ed-677cc52e2f92"
      },
      "execution_count": 88,
      "outputs": [
        {
          "output_type": "stream",
          "name": "stderr",
          "text": [
            "/usr/local/lib/python3.7/dist-packages/ipykernel_launcher.py:2: RuntimeWarning: divide by zero encountered in true_divide\n",
            "  \n",
            "/usr/local/lib/python3.7/dist-packages/ipykernel_launcher.py:2: RuntimeWarning: invalid value encountered in true_divide\n",
            "  \n"
          ]
        }
      ]
    },
    {
      "cell_type": "markdown",
      "source": [
        "Substrate composition in proportions"
      ],
      "metadata": {
        "id": "_1cz7R6VuTGn"
      }
    },
    {
      "cell_type": "code",
      "source": [
        "Sub  = substrate   # Substrate output\n",
        "type(Sub)\n",
        "len(Sub)\n",
        "a = (Sub[0][1094])\n",
        "\n",
        "tt        = np.linspace(0,len(t)-1,len(t)) # Number of repetitions = 10\n",
        "time      = np.linspace(0,1095,1096)\n",
        "\n",
        "Subst_prp = {}\n",
        "\n",
        "for i in tt:\n",
        "  Subst_prp[\"Run\"+str(int(i)+1)] = (Subst_tot[\"Run\"+str(int(i)+1)]/np.sum(Subst_tot[\"Run\"+str(int(i)+1)])).T\n",
        "\n",
        "DeadMic         = []\n",
        "DeadEnz         = []\n",
        "Cellulose       = []\n",
        "Hemicellulose   = []\n",
        "Starch          = []\n",
        "Chitin          = []\n",
        "Lignin          = []\n",
        "Protein1        = []\n",
        "Protein2        = []\n",
        "Protein3        = []\n",
        "OrgP1           = []\n",
        "OrgP2           = []\n",
        "\n",
        "for i in tt:\n",
        "  DeadMic.append(Subst_prp[\"Run\"+str(int(i)+1)][\"DeadMic\"])\n",
        "  DeadEnz.append(Subst_prp[\"Run\"+str(int(i)+1)][\"DeadEnz\"])\n",
        "  Cellulose.append(Subst_prp[\"Run\"+str(int(i)+1)][\"Cellulose\"])\n",
        "  Hemicellulose.append(Subst_prp[\"Run\"+str(int(i)+1)][\"Hemicellulose\"])\n",
        "  Starch.append(Subst_prp[\"Run\"+str(int(i)+1)][\"Starch\"])\n",
        "  Chitin.append(Subst_prp[\"Run\"+str(int(i)+1)][\"Chitin\"])\n",
        "  Lignin.append(Subst_prp[\"Run\"+str(int(i)+1)][\"Lignin\"])\n",
        "  Protein1.append(Subst_prp[\"Run\"+str(int(i)+1)][\"Protein1\"])\n",
        "  Protein2.append(Subst_prp[\"Run\"+str(int(i)+1)][\"Protein2\"])\n",
        "  Protein3.append(Subst_prp[\"Run\"+str(int(i)+1)][\"Protein3\"])\n",
        "  OrgP1.append(Subst_prp[\"Run\"+str(int(i)+1)][\"OrgP1\"])\n",
        "  OrgP2.append(Subst_prp[\"Run\"+str(int(i)+1)][\"OrgP2\"])\n",
        "\n",
        "#plt.stackplot(time,np.mean(DeadMic,axis=0),labels=\"DeadMic\")\n",
        "#plt.stackplot(time,np.mean(DeadEnz,axis=0),labels=\"DeadEnz\")\n",
        "#plt.stackplot(time,np.mean(Cellulose,axis=0),labels=\"Cellulose\")\n",
        "#plt.stackplot(time,np.mean(Hemicellulose,axis=0),labels=\"Hemicellulose\")\n",
        "#plt.stackplot(time,np.mean(Starch,axis=0),labels=\"Starch\")\n",
        "#plt.stackplot(time,np.mean(Chitin,axis=0),labels=\"Chitin\")\n",
        "#plt.stackplot(time,np.mean(Lignin,axis=0),labels=\"Lignin\")\n",
        "#plt.stackplot(time,np.mean(Protein1,axis=0),labels=\"Protein1\")\n",
        "#plt.stackplot(time,np.mean(Protein2,axis=0),labels=\"Protein2\")\n",
        "#plt.stackplot(time,np.mean(Protein3,axis=0),labels=\"Protein3\")\n",
        "#plt.stackplot(time,np.mean(OrgP1,axis=0),labels=\"OrgP1\")\n",
        "#plt.stackplot(time,np.mean(OrgP2,axis=0),labels=\"OrgP2\")\n",
        "#plt.xlabel('Time (d)') \n",
        "#plt.ylabel('%') \n",
        "#plt.title('Composition of substrate') \n",
        "#plt.legend(loc=\"upper left\")\n",
        "#plt.show()\n"
      ],
      "metadata": {
        "colab": {
          "base_uri": "https://localhost:8080/",
          "height": 295
        },
        "id": "M-BdONqWughv",
        "outputId": "9ed24179-f5ca-4eaa-a6e7-474866399e68"
      },
      "execution_count": 91,
      "outputs": [
        {
          "output_type": "display_data",
          "data": {
            "image/png": "[encoded data removed]",
            "text/plain": [
              "<Figure size 432x288 with 1 Axes>"
            ]
          },
          "metadata": {
            "needs_background": "light"
          }
        }
      ]
    },
    {
      "cell_type": "code",
      "source": [
        "np.savetxt('/content/output/DeadMic_proportion.csv',DeadMic,delimiter=\",\")\n",
        "np.savetxt('/content/output/DeadEnz_proportion.csv',DeadEnz,delimiter=\",\")\n",
        "np.savetxt('/content/output/Cellulose_proportion.csv',Cellulose,delimiter=\",\")\n",
        "np.savetxt('/content/output/Hemicellulose_proportion.csv',Hemicellulose,delimiter=\",\")\n",
        "np.savetxt('/content/output/Starch_proportion.csv',Starch,delimiter=\",\")\n",
        "np.savetxt('/content/output/Chitin_proportion.csv',Chitin,delimiter=\",\")\n",
        "np.savetxt('/content/output/Lignin_proportion.csv',Lignin,delimiter=\",\")\n",
        "np.savetxt('/content/output/Protein1_proportion.csv',Protein1,delimiter=\",\")\n",
        "np.savetxt('/content/output/Protein2_proportion.csv',Protein2,delimiter=\",\")\n",
        "np.savetxt('/content/output/Protein3_proportion.csv',Protein3,delimiter=\",\")\n",
        "np.savetxt('/content/output/OrgP1_proportion.csv',OrgP1,delimiter=\",\")\n",
        "np.savetxt('/content/output/OrgP2_proportion.csv',OrgP2,delimiter=\",\")"
      ],
      "metadata": {
        "id": "Bmc_NnB-T2V2"
      },
      "execution_count": 95,
      "outputs": []
    },
    {
      "cell_type": "markdown",
      "source": [
        "Substrate composition in absolute values"
      ],
      "metadata": {
        "id": "77xot7UwOviA"
      }
    },
    {
      "cell_type": "code",
      "source": [
        "Sub  = substrate   # Substrate output\n",
        "type(Sub)\n",
        "len(Sub)\n",
        "a = (Sub[0][1094])\n",
        "\n",
        "tt        = np.linspace(0,len(t)-1,len(t)) # Number of repetitions = 10\n",
        "time      = np.linspace(0,1095,1096)\n",
        "\n",
        "Subst_prp = {}\n",
        "\n",
        "for i in tt:\n",
        "  Subst_prp[\"Run\"+str(int(i)+1)] = (Subst_tot[\"Run\"+str(int(i)+1)]).T\n",
        "\n",
        "DeadMic         = []\n",
        "DeadEnz         = []\n",
        "Cellulose       = []\n",
        "Hemicellulose   = []\n",
        "Starch          = []\n",
        "Chitin          = []\n",
        "Lignin          = []\n",
        "Protein1        = []\n",
        "Protein2        = []\n",
        "Protein3        = []\n",
        "OrgP1           = []\n",
        "OrgP2           = []\n",
        "\n",
        "for i in tt:\n",
        "  DeadMic.append(Subst_prp[\"Run\"+str(int(i)+1)][\"DeadMic\"])\n",
        "  DeadEnz.append(Subst_prp[\"Run\"+str(int(i)+1)][\"DeadEnz\"])\n",
        "  Cellulose.append(Subst_prp[\"Run\"+str(int(i)+1)][\"Cellulose\"])\n",
        "  Hemicellulose.append(Subst_prp[\"Run\"+str(int(i)+1)][\"Hemicellulose\"])\n",
        "  Starch.append(Subst_prp[\"Run\"+str(int(i)+1)][\"Starch\"])\n",
        "  Chitin.append(Subst_prp[\"Run\"+str(int(i)+1)][\"Chitin\"])\n",
        "  Lignin.append(Subst_prp[\"Run\"+str(int(i)+1)][\"Lignin\"])\n",
        "  Protein1.append(Subst_prp[\"Run\"+str(int(i)+1)][\"Protein1\"])\n",
        "  Protein2.append(Subst_prp[\"Run\"+str(int(i)+1)][\"Protein2\"])\n",
        "  Protein3.append(Subst_prp[\"Run\"+str(int(i)+1)][\"Protein3\"])\n",
        "  OrgP1.append(Subst_prp[\"Run\"+str(int(i)+1)][\"OrgP1\"])\n",
        "  OrgP2.append(Subst_prp[\"Run\"+str(int(i)+1)][\"OrgP2\"])\n",
        "\n",
        "#plt.stackplot(time,np.mean(DeadMic,axis=0),labels=\"DeadMic\")\n",
        "#plt.stackplot(time,np.mean(DeadEnz,axis=0),labels=\"DeadEnz\")\n",
        "#plt.stackplot(time,np.mean(Cellulose,axis=0),labels=\"Cellulose\")\n",
        "#plt.stackplot(time,np.mean(Hemicellulose,axis=0),labels=\"Hemicellulose\")\n",
        "#plt.stackplot(time,np.mean(Starch,axis=0),labels=\"Starch\")\n",
        "#plt.stackplot(time,np.mean(Chitin,axis=0),labels=\"Chitin\")\n",
        "#plt.stackplot(time,np.mean(Lignin,axis=0),labels=\"Lignin\")\n",
        "#plt.stackplot(time,np.mean(Protein1,axis=0),labels=\"Protein1\")\n",
        "#plt.stackplot(time,np.mean(Protein2,axis=0),labels=\"Protein2\")\n",
        "#plt.stackplot(time,np.mean(Protein3,axis=0),labels=\"Protein3\")\n",
        "#plt.stackplot(time,np.mean(OrgP1,axis=0),labels=\"OrgP1\")\n",
        "#plt.stackplot(time,np.mean(OrgP2,axis=0),labels=\"OrgP2\")\n",
        "#plt.xlabel('Time (d)') \n",
        "#plt.ylabel('$mg$ $cm^{-3}$') \n",
        "#plt.title('Composition of substrate') \n",
        "#plt.legend(loc=\"upper left\")\n",
        "#plt.show()"
      ],
      "metadata": {
        "colab": {
          "base_uri": "https://localhost:8080/",
          "height": 295
        },
        "id": "1F4IkLHCO0oW",
        "outputId": "5556a49d-c2bd-46de-dddc-54a2df9eb9df"
      },
      "execution_count": 102,
      "outputs": [
        {
          "output_type": "display_data",
          "data": {
            "image/png": "[encoded data removed]",
            "text/plain": [
              "<Figure size 432x288 with 1 Axes>"
            ]
          },
          "metadata": {
            "needs_background": "light"
          }
        }
      ]
    },
    {
      "cell_type": "code",
      "source": [
        "np.savetxt('/content/output/DeadMic_absolute.csv',DeadMic,delimiter=\",\")\n",
        "np.savetxt('/content/output/DeadEnz_absolute.csv',DeadEnz,delimiter=\",\")\n",
        "np.savetxt('/content/output/Cellulose_absolute.csv',Cellulose,delimiter=\",\")\n",
        "np.savetxt('/content/output/Hemicellulose_absolute.csv',Hemicellulose,delimiter=\",\")\n",
        "np.savetxt('/content/output/Starch_absolute.csv',Starch,delimiter=\",\")\n",
        "np.savetxt('/content/output/Chitin_absolute.csv',Chitin,delimiter=\",\")\n",
        "np.savetxt('/content/output/Lignin_absolute.csv',Lignin,delimiter=\",\")\n",
        "np.savetxt('/content/output/Protein1_absolute.csv',Protein1,delimiter=\",\")\n",
        "np.savetxt('/content/output/Protein2_absolute.csv',Protein2,delimiter=\",\")\n",
        "np.savetxt('/content/output/Protein3_absolute.csv',Protein3,delimiter=\",\")\n",
        "np.savetxt('/content/output/OrgP1_absolute.csv',OrgP1,delimiter=\",\")\n",
        "np.savetxt('/content/output/OrgP2_absolute.csv',OrgP2,delimiter=\",\")"
      ],
      "metadata": {
        "id": "OK8nCjZ2Vnt0"
      },
      "execution_count": 98,
      "outputs": []
    },
    {
      "cell_type": "markdown",
      "source": [
        "**MICROBIAL BIOMASS** "
      ],
      "metadata": {
        "id": "LmKan8kmVAMo"
      }
    },
    {
      "cell_type": "markdown",
      "source": [
        "Total Biomass"
      ],
      "metadata": {
        "id": "WcrgvaQd0L9S"
      }
    },
    {
      "cell_type": "code",
      "source": [
        "Biom = microbes    # Taxon-specific total biomass summed over the grid Biom[int(0)]\n",
        "type(Biom)\n",
        "len(Biom)\n",
        "\n",
        "tt        = np.linspace(0,len(t)-1,len(t)) # Number of repetitions = 10\n",
        "time      = np.linspace(0,1095,1096)\n",
        "Bioma_tot = {}\n",
        "\n",
        "for i in tt:\n",
        "  Bioma_tot[\"Run\"+str(int(i)+1)] = Biom[int(i)][1094]\n",
        "\n",
        "Bio_tempo   = list(Bioma_tot.values())\n",
        "Bio_sum     = np.mean((np.array(Bio_tempo).sum(axis=1)),axis=0)\n",
        "Bio_05      = np.percentile((np.array(Bio_tempo).sum(axis=1)),5,axis=0)\n",
        "Bio_95      = np.percentile((np.array(Bio_tempo).sum(axis=1)),95,axis=0)\n",
        "\n",
        "#fig, ax = plt.subplots()\n",
        "\n",
        "#ax.fill_between(time,Bio_05,Bio_95, alpha=.5, linewidth=0,label=\"95% CI\")\n",
        "#ax.plot(time,Bio_sum, linewidth=2,label=\"Mean\")\n",
        "\n",
        "#plt.xlabel('Time (d)') \n",
        "#plt.ylabel('Microbial concentration ($mg$ $cm^{-3}$)') \n",
        "#plt.title('Total average microbial concentration') \n",
        "#ax.legend(loc=\"upper left\")\n",
        "#fig.show()"
      ],
      "metadata": {
        "colab": {
          "base_uri": "https://localhost:8080/",
          "height": 295
        },
        "id": "PW38Iz6D0S-D",
        "outputId": "5e01ccf0-143b-4f6f-9659-f9b5cd47cdfa"
      },
      "execution_count": 103,
      "outputs": [
        {
          "output_type": "display_data",
          "data": {
            "image/png": "[encoded data removed]",
            "text/plain": [
              "<Figure size 432x288 with 1 Axes>"
            ]
          },
          "metadata": {
            "needs_background": "light"
          }
        }
      ]
    },
    {
      "cell_type": "code",
      "source": [
        "np.savetxt('/content/output/Total_mean_biomass.csv',Bio_sum,delimiter=\",\")\n",
        "np.savetxt('/content/output/Per05_mean_biomass.csv',Bio_05,delimiter=\",\")\n",
        "np.savetxt('/content/output/Per95_mean_biomass.csv',Bio_95,delimiter=\",\")"
      ],
      "metadata": {
        "id": "PVs650f1WrDb"
      },
      "execution_count": 100,
      "outputs": []
    },
    {
      "cell_type": "markdown",
      "source": [
        "Total Biomass per Run"
      ],
      "metadata": {
        "id": "ZEqflsRm1g1x"
      }
    },
    {
      "cell_type": "code",
      "source": [
        "tt         = np.linspace(0,len(t)-1,len(t)) # Number of repetitions = 10\n",
        "time       = np.linspace(0,1095,1096)\n",
        "Bioma_taxa = {} # Total biomass\n",
        "\n",
        "for i in tt:\n",
        "  Bioma_taxa[\"Run\"+str(int(i)+1)] = np.sum(Bioma_tot[\"Run\"+str(int(i)+1)])\n",
        "#  plt.plot(time,Bioma_taxa[\"Run\"+str(int(i)+1)],label=\"Run\"+str(int(i)+1))\n",
        "#plt.xlabel('Time (d)') \n",
        "#plt.ylabel('$mg$ $cm^{-3}$') \n",
        "#plt.title('Total Microbial Biomass per Run') \n",
        "#plt.legend(loc=\"upper left\")\n",
        "#plt.show()\n"
      ],
      "metadata": {
        "colab": {
          "base_uri": "https://localhost:8080/",
          "height": 295
        },
        "id": "LiEIMWxH1kqc",
        "outputId": "a4f1f100-c35b-4e9a-fa42-f2b1d6403a8f"
      },
      "execution_count": 104,
      "outputs": [
        {
          "output_type": "display_data",
          "data": {
            "image/png": "[encoded data removed]",
            "text/plain": [
              "<Figure size 432x288 with 1 Axes>"
            ]
          },
          "metadata": {
            "needs_background": "light"
          }
        }
      ]
    },
    {
      "cell_type": "code",
      "source": [
        "tt         = np.linspace(0,len(t)-1,len(t)) # Number of repetitions = 10\n",
        "time       = np.linspace(0,1095,1096)\n",
        "Bioma_taxa_array = [] # Total biomass\n",
        "\n",
        "for i in tt:\n",
        "  Bioma_taxa_array.append(Bioma_taxa[\"Run\"+str(int(i)+1)])"
      ],
      "metadata": {
        "id": "JRE_iRyQX1ui"
      },
      "execution_count": 111,
      "outputs": []
    },
    {
      "cell_type": "code",
      "source": [
        "np.savetxt('/content/output/Total_biomass_run.csv',Bioma_taxa_array,delimiter=\",\")"
      ],
      "metadata": {
        "id": "pbrdPvwRYgdf"
      },
      "execution_count": 112,
      "outputs": []
    },
    {
      "cell_type": "markdown",
      "source": [
        "*Proportion of the different taxa at the end of the simulations. This will help me to get the proportions of the parameters for later analysis*"
      ],
      "metadata": {
        "id": "jTZbHnotQ1lm"
      }
    },
    {
      "cell_type": "code",
      "source": [
        "Bioma_tot[\"Run1\"][1095]/Bioma_taxa[\"Run1\"][1095]"
      ],
      "metadata": {
        "colab": {
          "base_uri": "https://localhost:8080/"
        },
        "id": "Vz1doLQiMTXj",
        "outputId": "df1d1e22-ba72-4026-9e97-30c61dd3382e"
      },
      "execution_count": 120,
      "outputs": [
        {
          "output_type": "execute_result",
          "data": {
            "text/plain": [
              "Tax1     0.000000\n",
              "Tax2     0.000000\n",
              "Tax3     0.875876\n",
              "Tax4     0.124124\n",
              "Tax5     0.000000\n",
              "Tax6     0.000000\n",
              "Tax7     0.000000\n",
              "Tax8     0.000000\n",
              "Tax9     0.000000\n",
              "Tax10    0.000000\n",
              "Name: 1095, dtype: float32"
            ]
          },
          "metadata": {},
          "execution_count": 120
        }
      ]
    },
    {
      "cell_type": "markdown",
      "source": [
        "*Proportions of different taxa per un to save*"
      ],
      "metadata": {
        "id": "xO6hyEWUZUik"
      }
    },
    {
      "cell_type": "code",
      "source": [
        "tt         = np.linspace(0,len(t)-1,len(t)) # Number of repetitions = 10\n",
        "time       = np.linspace(0,1095,1096)\n",
        "Bioma_taxa_prop_array = [] # Total biomass\n",
        "\n",
        "for i in tt:\n",
        "  Bioma_taxa_prop_array.append(Bioma_tot[\"Run\"+str(int(i)+1)][1095]/Bioma_taxa[\"Run\"+str(int(i)+1)][1095])\n"
      ],
      "metadata": {
        "id": "VshMjGK4ZT3i"
      },
      "execution_count": 121,
      "outputs": []
    },
    {
      "cell_type": "code",
      "source": [
        "np.savetxt('/content/output/prop_taxa_run.csv',Bioma_taxa_prop_array,delimiter=\",\")"
      ],
      "metadata": {
        "id": "g2jxEiMaaajx"
      },
      "execution_count": 123,
      "outputs": []
    },
    {
      "cell_type": "markdown",
      "source": [
        "Proportion of biomass degrading specific substrates"
      ],
      "metadata": {
        "id": "txU4KP-wdXQ7"
      }
    },
    {
      "cell_type": "markdown",
      "source": [
        "*Here, I get the total biomass containing specific enzymes per run. The final file is a dicctionary \"Sub_Taxa_R\", which has run number and enzyme number*"
      ],
      "metadata": {
        "id": "f3hSebHOLTwt"
      }
    },
    {
      "cell_type": "code",
      "source": [
        "taxa_n        = 10 # Number of taxa (10 taxa, but it can be change to 100)\n",
        "enzyme_n      = 50 # Number of enzymes\n",
        "subs_n        = 12 # Number of substrates\n",
        "m             = np.linspace(0,len(t)-1,len(t))  # Number of simulations\n",
        "m1            = np.linspace(0,(enzyme_n)-1,(enzyme_n))      # Number of enzymes\n",
        "m2            = np.linspace(0,(taxa_n)-1,(taxa_n))       # Number of taxa (10 taxa, but it can be change to 100) \n",
        "m4            = np.linspace(0,(subs_n)-1,(subs_n))      # Number of substrates\n",
        "Sub_Taxa_R    = {} # Contains biomass degrading specific enzymes for multiple runs\n",
        "\n",
        "for iii in m:\n",
        "  enz_taxa      = {} # Contains biomass having specific enzymes for 1 run\n",
        "  enz_taxa_sum  = {} # Contains biomass having specific enzymes for 1 run\n",
        "  for ii in m1:\n",
        "    temp        = []\n",
        "    for i in m2:\n",
        "      if EnzGenes[int(iii)][1094][0:len(m2)][\"Enz\"+str(int(ii)+1)][int(i)]==1:\n",
        "        temp.append(Bioma_tot[\"Run\"+str(int(iii)+1)].T[\"Tax\"+str(int(i)+1)].tolist())\n",
        "        enz_taxa[\"Enz\"+str(int(ii)+1)] = temp\n",
        "      else:\n",
        "        temp.append(np.zeros(len(time)).tolist())\n",
        "        enz_taxa[\"Enz\"+str(int(ii)+1)] = temp\n",
        "    enz_taxa_sum[\"Enz\"+str(int(ii)+1)] = np.sum(enz_taxa[\"Enz\"+str(int(ii)+1)],axis=0)\n",
        "  Sub_Taxa_R[\"Run\"+str(int(iii)+1)] = enz_taxa_sum\n"
      ],
      "metadata": {
        "id": "RUnuyrM8GryI"
      },
      "execution_count": 133,
      "outputs": []
    },
    {
      "cell_type": "code",
      "source": [
        "import pickle\n",
        "output = open('/content/output/Biomass_Enzyme.pkl', 'wb')\n",
        "pickle.dump(Sub_Taxa_R, output)\n",
        "output.close()"
      ],
      "metadata": {
        "id": "Eijcn0JIfaHK"
      },
      "execution_count": 135,
      "outputs": []
    },
    {
      "cell_type": "code",
      "source": [
        "#import pprint, pickle\n",
        "#pkl_file = open('/content/output/Biomass_Enzyme.pkl', 'rb')\n",
        "#Sub_Taxa_R = pickle.load(pkl_file)\n",
        "#pprint.pprint(Sub_Taxa_R)\n",
        "#pkl_file.close()"
      ],
      "metadata": {
        "id": "JDHWp58Ihx5b"
      },
      "execution_count": 139,
      "outputs": []
    },
    {
      "cell_type": "markdown",
      "source": [
        "*Here, I have test plots of how the proportions*"
      ],
      "metadata": {
        "id": "SlvZ2nYKNF6r"
      }
    },
    {
      "cell_type": "code",
      "source": [
        "#plt.plot(time,(Sub_Taxa_R[\"Run1\"][\"Enz2\"]/np.sum(Bioma_tot[\"Run1\"])),label=\"Run1\") # [400:len(time)]\n",
        "#plt.legend()\n",
        "#plt.show"
      ],
      "metadata": {
        "colab": {
          "base_uri": "https://localhost:8080/",
          "height": 283
        },
        "id": "mDOQK8VS1o4F",
        "outputId": "ea532fb8-8a7d-47da-d1f6-75d408d8c126"
      },
      "execution_count": null,
      "outputs": [
        {
          "output_type": "execute_result",
          "data": {
            "text/plain": [
              "<function matplotlib.pyplot.show>"
            ]
          },
          "metadata": {},
          "execution_count": 15
        },
        {
          "output_type": "display_data",
          "data": {
            "image/png": "[encoded data removed]",
            "text/plain": [
              "<Figure size 432x288 with 1 Axes>"
            ]
          },
          "metadata": {
            "needs_background": "light"
          }
        }
      ]
    },
    {
      "cell_type": "markdown",
      "source": [
        "*Here, I have determine the proportions of biomass degrading specific substrates. Because we have some redundancy in taxa that can degrade the same substrate, I calculate the proportions based on the total biomass degrading all the substrates together to account for the redundancies. This information is collected in the output bio_run*"
      ],
      "metadata": {
        "id": "h_zWLlIYTkYJ"
      }
    },
    {
      "cell_type": "code",
      "source": [
        "m3          = np.linspace(0,(subs_n)-1,(subs_n))      # Number of substrates\n",
        "m           = np.linspace(0,len(t)-1,len(t))  # Number of simulations\n",
        "Sub_Taxa_TR = {}\n",
        "\n",
        "for iii in m:\n",
        "  Sub_Taxa_T     = {} # Contains biomass degrading specific enzymes for multiple runs\n",
        "  Sub_Taxa_sum   = {} # Contains total biomass degrading specific enzymes for multiple runs\n",
        "  for j in m3:\n",
        "    temp1=[]\n",
        "    for ii in m1:\n",
        "      if ReqEnz_dfA[int(iii)][1094][0:12].T[\"set1\"][\"Sub\"+str(int(j)+1)][(int(ii))] == 1:\n",
        "        temp1.append(Sub_Taxa_R[\"Run\"+str(int(iii)+1)][\"Enz\"+str(int(ii)+1)].tolist())\n",
        "        Sub_Taxa_T[\"Sub\"+str(int(j)+1)] = temp1\n",
        "      else:\n",
        "        temp1.append(np.zeros(len(time)).tolist())\n",
        "        Sub_Taxa_T[\"Sub\"+str(int(j)+1)] = temp1\n",
        "    Sub_Taxa_sum[\"Sub\"+str(int(j)+1)] = np.sum(Sub_Taxa_T[\"Sub\"+str(int(j)+1)],axis=0)\n",
        "  Sub_Taxa_TR[\"Run\"+str(int(iii)+1)] = Sub_Taxa_sum"
      ],
      "metadata": {
        "id": "tDuepM2UNEM7"
      },
      "execution_count": 140,
      "outputs": []
    },
    {
      "cell_type": "code",
      "source": [
        "import pickle\n",
        "output = open('/content/output/Biomass_substrate.pkl', 'wb')\n",
        "pickle.dump(Sub_Taxa_TR, output)\n",
        "output.close()"
      ],
      "metadata": {
        "id": "LD0CszWCi_b9"
      },
      "execution_count": 141,
      "outputs": []
    },
    {
      "cell_type": "code",
      "source": [
        "bio_run = {} # Total Biomass including redundancies\n",
        "\n",
        "for iii in m:\n",
        "  tem = []\n",
        "  for j in m3:\n",
        "    tem.append(Sub_Taxa_TR[\"Run\"+str(int(iii)+1)][\"Sub\"+str(int(j)+1)].tolist())\n",
        "  bio_run[\"Run\"+str(int(iii)+1)] = np.sum(tem,axis=0)  "
      ],
      "metadata": {
        "id": "ZO0vnqXybrzs"
      },
      "execution_count": null,
      "outputs": []
    },
    {
      "cell_type": "code",
      "source": [
        "import pickle\n",
        "output = open('/content/output/Biomass_redundancies.pkl', 'wb')\n",
        "pickle.dump(bio_run, output)\n",
        "output.close()"
      ],
      "metadata": {
        "id": "cecfO_esjNHW"
      },
      "execution_count": 142,
      "outputs": []
    },
    {
      "cell_type": "markdown",
      "source": [
        "*Test plot*"
      ],
      "metadata": {
        "id": "9Qg50qc9bHTF"
      }
    },
    {
      "cell_type": "code",
      "source": [
        "m           = np.linspace(0,len(t)-1,len(t))  # Number of simulations\n",
        "\n",
        "DeadMic         = []\n",
        "DeadEnz         = []\n",
        "Cellulose       = []\n",
        "Hemicellulose   = []\n",
        "Starch          = []\n",
        "Chitin          = []\n",
        "Lignin          = []\n",
        "Protein1        = []\n",
        "Protein2        = []\n",
        "Protein3        = []\n",
        "OrgP1           = []\n",
        "OrgP2           = []\n",
        "\n",
        "for i in m:\n",
        "  DeadMic.append(Sub_Taxa_TR[\"Run\"+str(int(i)+1)][\"Sub\"+str(int(0)+1)]/bio_run[\"Run\"+str(int(i)+1)])\n",
        "  DeadEnz.append(Sub_Taxa_TR[\"Run\"+str(int(i)+1)][\"Sub\"+str(int(1)+1)]/bio_run[\"Run\"+str(int(i)+1)])\n",
        "  Cellulose.append(Sub_Taxa_TR[\"Run\"+str(int(i)+1)][\"Sub\"+str(int(2)+1)]/bio_run[\"Run\"+str(int(i)+1)])\n",
        "  Hemicellulose.append(Sub_Taxa_TR[\"Run\"+str(int(i)+1)][\"Sub\"+str(int(3)+1)]/bio_run[\"Run\"+str(int(i)+1)])\n",
        "  Starch.append(Sub_Taxa_TR[\"Run\"+str(int(i)+1)][\"Sub\"+str(int(4)+1)]/bio_run[\"Run\"+str(int(i)+1)])\n",
        "  Chitin.append(Sub_Taxa_TR[\"Run\"+str(int(i)+1)][\"Sub\"+str(int(5)+1)]/bio_run[\"Run\"+str(int(i)+1)])\n",
        "  Lignin.append(Sub_Taxa_TR[\"Run\"+str(int(i)+1)][\"Sub\"+str(int(6)+1)]/bio_run[\"Run\"+str(int(i)+1)])\n",
        "  Protein1.append(Sub_Taxa_TR[\"Run\"+str(int(i)+1)][\"Sub\"+str(int(7)+1)]/bio_run[\"Run\"+str(int(i)+1)])\n",
        "  Protein2.append(Sub_Taxa_TR[\"Run\"+str(int(i)+1)][\"Sub\"+str(int(8)+1)]/bio_run[\"Run\"+str(int(i)+1)])\n",
        "  Protein3.append(Sub_Taxa_TR[\"Run\"+str(int(i)+1)][\"Sub\"+str(int(9)+1)]/bio_run[\"Run\"+str(int(i)+1)])\n",
        "  OrgP1.append(Sub_Taxa_TR[\"Run\"+str(int(i)+1)][\"Sub\"+str(int(10)+1)]/bio_run[\"Run\"+str(int(i)+1)])\n",
        "  OrgP2.append(Sub_Taxa_TR[\"Run\"+str(int(i)+1)][\"Sub\"+str(int(11)+1)]/bio_run[\"Run\"+str(int(i)+1)])"
      ],
      "metadata": {
        "colab": {
          "base_uri": "https://localhost:8080/"
        },
        "id": "-birs3_9Ieqp",
        "outputId": "f940fc91-eeed-4529-e48e-e6b52de1742a"
      },
      "execution_count": 143,
      "outputs": [
        {
          "output_type": "stream",
          "name": "stderr",
          "text": [
            "/usr/local/lib/python3.7/dist-packages/ipykernel_launcher.py:17: RuntimeWarning: invalid value encountered in true_divide\n",
            "/usr/local/lib/python3.7/dist-packages/ipykernel_launcher.py:18: RuntimeWarning: invalid value encountered in true_divide\n",
            "/usr/local/lib/python3.7/dist-packages/ipykernel_launcher.py:19: RuntimeWarning: invalid value encountered in true_divide\n",
            "/usr/local/lib/python3.7/dist-packages/ipykernel_launcher.py:20: RuntimeWarning: invalid value encountered in true_divide\n",
            "/usr/local/lib/python3.7/dist-packages/ipykernel_launcher.py:21: RuntimeWarning: invalid value encountered in true_divide\n",
            "/usr/local/lib/python3.7/dist-packages/ipykernel_launcher.py:22: RuntimeWarning: invalid value encountered in true_divide\n",
            "/usr/local/lib/python3.7/dist-packages/ipykernel_launcher.py:23: RuntimeWarning: invalid value encountered in true_divide\n",
            "/usr/local/lib/python3.7/dist-packages/ipykernel_launcher.py:24: RuntimeWarning: invalid value encountered in true_divide\n",
            "/usr/local/lib/python3.7/dist-packages/ipykernel_launcher.py:25: RuntimeWarning: invalid value encountered in true_divide\n",
            "/usr/local/lib/python3.7/dist-packages/ipykernel_launcher.py:26: RuntimeWarning: invalid value encountered in true_divide\n",
            "/usr/local/lib/python3.7/dist-packages/ipykernel_launcher.py:27: RuntimeWarning: invalid value encountered in true_divide\n",
            "/usr/local/lib/python3.7/dist-packages/ipykernel_launcher.py:28: RuntimeWarning: invalid value encountered in true_divide\n"
          ]
        }
      ]
    },
    {
      "cell_type": "code",
      "source": [
        "#plt.plot(time,np.nan_to_num(np.mean(DeadMic,axis=0)))\n",
        "#plt.plot(time,np.mean(DeadMic,axis=0),label=\"DeadMic\")\n",
        "#plt.plot(time,np.mean(DeadEnz,axis=0),label=\"DeadEnz\")\n",
        "#plt.plot(time,np.mean(Cellulose,axis=0),label=\"Cellulose\")\n",
        "#plt.plot(time,np.mean(Hemicellulose,axis=0),label=\"Hemicel\")\n",
        "#plt.plot(time,np.mean(Starch,axis=0),label=\"Starch\")\n",
        "#plt.plot(time,np.mean(Chitin,axis=0),label=\"Chitin\")\n",
        "#plt.plot(time,np.mean(Lignin,axis=0),label=\"Lignin\")\n",
        "#plt.plot(time,np.mean(Protein1,axis=0),label=\"Prot1\")\n",
        "#plt.plot(time,np.mean(Protein2,axis=0),label=\"Prot2\")\n",
        "#plt.plot(time,np.mean(Protein3,axis=0),label=\"Prot3\")\n",
        "#plt.plot(time,np.mean(OrgP1,axis=0),label=\"OrgP1\")\n",
        "#plt.plot(time,np.mean(OrgP2,axis=0),label=\"OrgP2\")\n",
        "#plt.legend()\n",
        "#plt.show"
      ],
      "metadata": {
        "colab": {
          "base_uri": "https://localhost:8080/",
          "height": 283
        },
        "id": "jN8LUCa4KX9d",
        "outputId": "65aba738-0e84-483f-9bd6-51482427570f"
      },
      "execution_count": 145,
      "outputs": [
        {
          "output_type": "execute_result",
          "data": {
            "text/plain": [
              "<function matplotlib.pyplot.show>"
            ]
          },
          "metadata": {},
          "execution_count": 145
        },
        {
          "output_type": "display_data",
          "data": {
            "image/png": "[encoded data removed]",
            "text/plain": [
              "<Figure size 432x288 with 1 Axes>"
            ]
          },
          "metadata": {
            "needs_background": "light"
          }
        }
      ]
    },
    {
      "cell_type": "code",
      "source": [
        "#fig, ax = plt.subplots()\n",
        "\n",
        "#ax.fill_between(time,np.percentile(Cellulose,5,axis=0),np.percentile(Cellulose,95,axis=0), alpha=.5, linewidth=0,label=\"95% CI\")\n",
        "#ax.plot(time,np.mean(Cellulose,axis=0), linewidth=2,label=\"Mean\")\n",
        "\n",
        "#plt.xlabel('Time (d)') \n",
        "#plt.ylabel('%') \n",
        "#plt.title('Proportion of Biomass degrading Cellulose') \n",
        "#ax.legend(loc=\"upper left\")\n",
        "#fig.show()"
      ],
      "metadata": {
        "colab": {
          "base_uri": "https://localhost:8080/",
          "height": 295
        },
        "id": "trxQdnmqMXIG",
        "outputId": "2f0d0ec2-dd7b-4ce7-ddde-53f0216d1dcd"
      },
      "execution_count": 146,
      "outputs": [
        {
          "output_type": "display_data",
          "data": {
            "image/png": "[encoded data removed]",
            "text/plain": [
              "<Figure size 432x288 with 1 Axes>"
            ]
          },
          "metadata": {
            "needs_background": "light"
          }
        }
      ]
    },
    {
      "cell_type": "code",
      "source": [
        "#fig, ax = plt.subplots()\n",
        "\n",
        "#ax.fill_between(time,np.percentile(Starch,5,axis=0),np.percentile(Starch,95,axis=0), alpha=.5, linewidth=0,label=\"95% CI\")\n",
        "#ax.plot(time,np.mean(Starch,axis=0), linewidth=2,label=\"Mean\")\n",
        "\n",
        "#plt.xlabel('Time (d)') \n",
        "#plt.ylabel('%') \n",
        "#plt.title('Proportion of Biomass degrading Starch') \n",
        "#ax.legend(loc=\"upper left\")\n",
        "#fig.show()"
      ],
      "metadata": {
        "colab": {
          "base_uri": "https://localhost:8080/",
          "height": 295
        },
        "id": "6s-msElfOz2y",
        "outputId": "638ea1ac-8857-480d-ee6c-7639ef4869bb"
      },
      "execution_count": 147,
      "outputs": [
        {
          "output_type": "display_data",
          "data": {
            "image/png": "[encoded data removed]",
            "text/plain": [
              "<Figure size 432x288 with 1 Axes>"
            ]
          },
          "metadata": {
            "needs_background": "light"
          }
        }
      ]
    },
    {
      "cell_type": "markdown",
      "source": [
        "#**MODEL PARAMETERS**"
      ],
      "metadata": {
        "id": "yqsI18-aPTnc"
      }
    },
    {
      "cell_type": "markdown",
      "source": [
        "*Cost of constituitive enzyme production = EnzProdConsti_trait*"
      ],
      "metadata": {
        "id": "LdXJEXGfbI_6"
      }
    },
    {
      "cell_type": "code",
      "source": [
        "m             = np.linspace(0,len(t)-1,len(t))  # Number of simulations\n",
        "m2            = np.linspace(0,(taxa_n)-1,(taxa_n))       # Number of taxa (10 taxa, but it can be change to 100) \n",
        "Enzcon  = {}\n",
        "EnzconD = {}\n",
        "\n",
        "for j in m:\n",
        "  temp   = []\n",
        "  for i in m2:\n",
        "    temp.append(EnzProdConsti_trait[int(j)][1094][0:taxa_n][int(i)]*(Bioma_tot[\"Run\"+str(int(j)+1)][1095]/Bioma_taxa[\"Run\"+str(int(j)+1)][1095])[int(i)])\n",
        "  Enzcon[\"Run\"+str(int(j)+1)] = np.sum(temp)\n",
        "  EnzconD[\"Run\"+str(int(j)+1)] = temp"
      ],
      "metadata": {
        "id": "srvEmZ7SbIXM"
      },
      "execution_count": 150,
      "outputs": []
    },
    {
      "cell_type": "code",
      "source": [
        "#plt.hist(Enzcon.values())"
      ],
      "metadata": {
        "colab": {
          "base_uri": "https://localhost:8080/",
          "height": 369
        },
        "id": "a1D_lmRtprnL",
        "outputId": "a04617e2-15c6-46ec-f23b-c3f24ffbc0cc"
      },
      "execution_count": 149,
      "outputs": [
        {
          "output_type": "execute_result",
          "data": {
            "text/plain": [
              "(array([3., 1., 0., 0., 1., 1., 0., 2., 1., 1.]),\n",
              " array([3.6281246e-05, 4.2298961e-05, 4.8316680e-05, 5.4334396e-05,\n",
              "        6.0352111e-05, 6.6369830e-05, 7.2387542e-05, 7.8405261e-05,\n",
              "        8.4422980e-05, 9.0440692e-05, 9.6458411e-05], dtype=float32),\n",
              " <a list of 10 Patch objects>)"
            ]
          },
          "metadata": {},
          "execution_count": 149
        },
        {
          "output_type": "display_data",
          "data": {
            "image/png": "[encoded data removed]",
            "text/plain": [
              "<Figure size 432x288 with 1 Axes>"
            ]
          },
          "metadata": {
            "needs_background": "light"
          }
        }
      ]
    },
    {
      "cell_type": "code",
      "source": [
        "import pickle\n",
        "output = open('/content/output/EnzProdConsti_trait.pkl', 'wb')\n",
        "pickle.dump(Enzcon, output)\n",
        "output.close()"
      ],
      "metadata": {
        "id": "or06XH7akZk6"
      },
      "execution_count": 155,
      "outputs": []
    },
    {
      "cell_type": "markdown",
      "source": [
        "*Cost of inducible enzyme production = EnzProdInduci_trait*"
      ],
      "metadata": {
        "id": "siGZJP5yrzo7"
      }
    },
    {
      "cell_type": "code",
      "source": [
        "m             = np.linspace(0,len(t)-1,len(t))  # Number of simulations\n",
        "m2            = np.linspace(0,(taxa_n)-1,(taxa_n))       # Number of taxa (10 taxa, but it can be change to 100) \n",
        "Enzind = {}\n",
        "\n",
        "for j in m:\n",
        "  temp   = []\n",
        "  for i in m2:\n",
        "    temp.append(EnzProdInduci_trait[int(j)][1094][0:taxa_n][int(i)]*(Bioma_tot[\"Run\"+str(int(j)+1)][1095]/Bioma_taxa[\"Run\"+str(int(j)+1)][1095])[int(i)])\n",
        "  Enzind[\"Run\"+str(int(j)+1)] = np.sum(temp)"
      ],
      "metadata": {
        "id": "GCK4Bk0-r6b5"
      },
      "execution_count": 164,
      "outputs": []
    },
    {
      "cell_type": "code",
      "source": [
        "#plt.hist(Enzind.values())"
      ],
      "metadata": {
        "colab": {
          "base_uri": "https://localhost:8080/",
          "height": 369
        },
        "id": "8ow2YJlxsB_N",
        "outputId": "5d6450a3-0310-45a1-85b6-40e661244931"
      },
      "execution_count": null,
      "outputs": [
        {
          "output_type": "execute_result",
          "data": {
            "text/plain": [
              "(array([2., 0., 1., 1., 1., 4., 0., 0., 0., 1.]),\n",
              " array([1.4829124e-05, 2.1247859e-05, 2.7666592e-05, 3.4085329e-05,\n",
              "        4.0504063e-05, 4.6922796e-05, 5.3341533e-05, 5.9760267e-05,\n",
              "        6.6179004e-05, 7.2597737e-05, 7.9016470e-05], dtype=float32),\n",
              " <a list of 10 Patch objects>)"
            ]
          },
          "metadata": {},
          "execution_count": 25
        },
        {
          "output_type": "display_data",
          "data": {
            "image/png": "[encoded data removed]",
            "text/plain": [
              "<Figure size 432x288 with 1 Axes>"
            ]
          },
          "metadata": {
            "needs_background": "light"
          }
        }
      ]
    },
    {
      "cell_type": "code",
      "source": [
        "import pickle\n",
        "output = open('/content/output/EnzProdInd_trait.pkl', 'wb')\n",
        "pickle.dump(Enzind, output)\n",
        "output.close()"
      ],
      "metadata": {
        "id": "I3nQ2D4GlsUF"
      },
      "execution_count": 156,
      "outputs": []
    },
    {
      "cell_type": "markdown",
      "source": [
        "*Cost of constituitive osmolyte production = OsmoProdConsti_trait*"
      ],
      "metadata": {
        "id": "dN1Z-ObcsTuD"
      }
    },
    {
      "cell_type": "code",
      "source": [
        "m             = np.linspace(0,len(t)-1,len(t))  # Number of simulations\n",
        "m2            = np.linspace(0,(taxa_n)-1,(taxa_n))       # Number of taxa (10 taxa, but it can be change to 100) \n",
        "oscons = {}\n",
        "\n",
        "for j in m:\n",
        "  temp   = []\n",
        "  for i in m2:\n",
        "    temp.append(OsmoProdConsti_trait[int(j)][1094][0:taxa_n][int(i)]*(Bioma_tot[\"Run\"+str(int(j)+1)][1095]/Bioma_taxa[\"Run\"+str(int(j)+1)][1095])[int(i)])\n",
        "  oscons[\"Run\"+str(int(j)+1)] = np.sum(temp)"
      ],
      "metadata": {
        "id": "870_dZXlsrLj"
      },
      "execution_count": 165,
      "outputs": []
    },
    {
      "cell_type": "code",
      "source": [
        "#plt.hist(oscons.values())"
      ],
      "metadata": {
        "colab": {
          "base_uri": "https://localhost:8080/",
          "height": 369
        },
        "id": "d41Mnkd7srdn",
        "outputId": "ecde1ad7-3cdd-48d4-f9c1-0972f92aaab8"
      },
      "execution_count": null,
      "outputs": [
        {
          "output_type": "execute_result",
          "data": {
            "text/plain": [
              "(array([3., 0., 1., 0., 3., 0., 1., 0., 0., 2.]),\n",
              " array([3.5439771e-05, 3.8801507e-05, 4.2163239e-05, 4.5524976e-05,\n",
              "        4.8886708e-05, 5.2248444e-05, 5.5610180e-05, 5.8971913e-05,\n",
              "        6.2333645e-05, 6.5695385e-05, 6.9057118e-05], dtype=float32),\n",
              " <a list of 10 Patch objects>)"
            ]
          },
          "metadata": {},
          "execution_count": 27
        },
        {
          "output_type": "display_data",
          "data": {
            "image/png": "[encoded data removed]",
            "text/plain": [
              "<Figure size 432x288 with 1 Axes>"
            ]
          },
          "metadata": {
            "needs_background": "light"
          }
        }
      ]
    },
    {
      "cell_type": "code",
      "source": [
        "import pickle\n",
        "output = open('/content/output/OsmoProdConsti_trait.pkl', 'wb')\n",
        "pickle.dump(oscons, output)\n",
        "output.close()"
      ],
      "metadata": {
        "id": "JQD2MBuBmSMy"
      },
      "execution_count": 157,
      "outputs": []
    },
    {
      "cell_type": "markdown",
      "source": [
        "*Cost of inducible osmolyte production = OsmoProdInduci_trait*"
      ],
      "metadata": {
        "id": "_uJ1VeQEs8Hr"
      }
    },
    {
      "cell_type": "code",
      "source": [
        "m             = np.linspace(0,len(t)-1,len(t))  # Number of simulations\n",
        "m2            = np.linspace(0,(taxa_n)-1,(taxa_n))       # Number of taxa (10 taxa, but it can be change to 100) \n",
        "osindu = {}\n",
        "\n",
        "for j in m:\n",
        "  temp   = []\n",
        "  for i in m2:\n",
        "    temp.append(OsmoProdInduci_trait[int(j)][1094][0:taxa_n][int(i)]*(Bioma_tot[\"Run\"+str(int(j)+1)][1095]/Bioma_taxa[\"Run\"+str(int(j)+1)][1095])[int(i)])\n",
        "  osindu[\"Run\"+str(int(j)+1)] = np.sum(temp)"
      ],
      "metadata": {
        "id": "JeE4IN1etBTN"
      },
      "execution_count": null,
      "outputs": []
    },
    {
      "cell_type": "code",
      "source": [
        "#plt.hist(osindu.values())"
      ],
      "metadata": {
        "colab": {
          "base_uri": "https://localhost:8080/",
          "height": 356
        },
        "id": "v0rwjHsmtBdH",
        "outputId": "c5c84287-c152-45ce-eb24-2cd1f25cdcd0"
      },
      "execution_count": null,
      "outputs": [
        {
          "output_type": "execute_result",
          "data": {
            "text/plain": [
              "(array([3., 0., 0., 0., 1., 0., 2., 1., 0., 3.]),\n",
              " array([0.00052766, 0.00057205, 0.00061644, 0.00066083, 0.00070522,\n",
              "        0.00074962, 0.00079401, 0.0008384 , 0.00088279, 0.00092718,\n",
              "        0.00097157], dtype=float32),\n",
              " <a list of 10 Patch objects>)"
            ]
          },
          "metadata": {},
          "execution_count": 29
        },
        {
          "output_type": "display_data",
          "data": {
            "image/png": "[encoded data removed]",
            "text/plain": [
              "<Figure size 432x288 with 1 Axes>"
            ]
          },
          "metadata": {
            "needs_background": "light"
          }
        }
      ]
    },
    {
      "cell_type": "code",
      "source": [
        "import pickle\n",
        "output = open('/content/output/OsmoProdInd_trait.pkl', 'wb')\n",
        "pickle.dump(osindu, output)\n",
        "output.close()"
      ],
      "metadata": {
        "id": "kYD2Oqo5mXYa"
      },
      "execution_count": 158,
      "outputs": []
    },
    {
      "cell_type": "markdown",
      "source": [
        "*Drought Tolerance per taxa = TaxDroughtTol*"
      ],
      "metadata": {
        "id": "Dj3pQYyFts5L"
      }
    },
    {
      "cell_type": "code",
      "source": [
        "m             = np.linspace(0,len(t)-1,len(t))  # Number of simulations\n",
        "m2            = np.linspace(0,(taxa_n)-1,(taxa_n))       # Number of taxa (10 taxa, but it can be change to 100) \n",
        "taxdrot = {}\n",
        "\n",
        "for j in m:\n",
        "  temp   = []\n",
        "  for i in m2:\n",
        "    temp.append(TaxDroughtTol[int(j)][1094][0:taxa_n][int(i)]*(Bioma_tot[\"Run\"+str(int(j)+1)][1095]/Bioma_taxa[\"Run\"+str(int(j)+1)][1095])[int(i)])\n",
        "  taxdrot[\"Run\"+str(int(j)+1)] = np.sum(temp)"
      ],
      "metadata": {
        "id": "66qHIeUlt3Ks"
      },
      "execution_count": 166,
      "outputs": []
    },
    {
      "cell_type": "code",
      "source": [
        "#plt.hist(taxdrot.values())"
      ],
      "metadata": {
        "colab": {
          "base_uri": "https://localhost:8080/",
          "height": 356
        },
        "id": "FtjV8DqZttCT",
        "outputId": "320ba4d2-9dd9-4826-baa7-327213d56709"
      },
      "execution_count": null,
      "outputs": [
        {
          "output_type": "execute_result",
          "data": {
            "text/plain": [
              "(array([3., 0., 0., 0., 1., 0., 0., 0., 3., 3.]),\n",
              " array([0.43402022, 0.48882037, 0.5436205 , 0.59842074, 0.6532209 ,\n",
              "        0.70802104, 0.7628212 , 0.81762135, 0.87242156, 0.9272217 ,\n",
              "        0.98202187], dtype=float32),\n",
              " <a list of 10 Patch objects>)"
            ]
          },
          "metadata": {},
          "execution_count": 31
        },
        {
          "output_type": "display_data",
          "data": {
            "image/png": "[encoded data removed]",
            "text/plain": [
              "<Figure size 432x288 with 1 Axes>"
            ]
          },
          "metadata": {
            "needs_background": "light"
          }
        }
      ]
    },
    {
      "cell_type": "code",
      "source": [
        "import pickle\n",
        "output = open('/content/output/TaxDroughtTol.pkl', 'wb')\n",
        "pickle.dump(taxdrot, output)\n",
        "output.close()"
      ],
      "metadata": {
        "id": "J-LL6MuLmdQ4"
      },
      "execution_count": 159,
      "outputs": []
    },
    {
      "cell_type": "markdown",
      "source": [
        "*Cost for transporter production = UptakeGenes_trait*"
      ],
      "metadata": {
        "id": "LJODdp5duN-E"
      }
    },
    {
      "cell_type": "code",
      "source": [
        "m             = np.linspace(0,len(t)-1,len(t))  # Number of simulations\n",
        "m2            = np.linspace(0,(taxa_n)-1,(taxa_n))       # Number of taxa (10 taxa, but it can be change to 100) \n",
        "taxtran = {}\n",
        "\n",
        "for j in m:\n",
        "  temp   = []\n",
        "  for i in m2:\n",
        "    temp.append(UptakeGenes_trait[int(j)][1094][0:taxa_n][int(i)]*(Bioma_tot[\"Run\"+str(int(j)+1)][1095]/Bioma_taxa[\"Run\"+str(int(j)+1)][1095])[int(i)])\n",
        "  taxtran[\"Run\"+str(int(j)+1)] = np.sum(temp)"
      ],
      "metadata": {
        "id": "A4p65VJ3uWia"
      },
      "execution_count": null,
      "outputs": []
    },
    {
      "cell_type": "code",
      "source": [
        "#plt.hist(taxtran.values())"
      ],
      "metadata": {
        "colab": {
          "base_uri": "https://localhost:8080/",
          "height": 356
        },
        "id": "j8SGxw31uWra",
        "outputId": "31816835-c3fb-420c-df2a-8ed66ec0dca8"
      },
      "execution_count": null,
      "outputs": [
        {
          "output_type": "execute_result",
          "data": {
            "text/plain": [
              "(array([1., 0., 0., 0., 0., 0., 0., 3., 2., 4.]),\n",
              " array([0.0310154 , 0.03586365, 0.0407119 , 0.04556015, 0.0504084 ,\n",
              "        0.05525665, 0.0601049 , 0.06495315, 0.0698014 , 0.07464965,\n",
              "        0.0794979 ], dtype=float32),\n",
              " <a list of 10 Patch objects>)"
            ]
          },
          "metadata": {},
          "execution_count": 33
        },
        {
          "output_type": "display_data",
          "data": {
            "image/png": "[encoded data removed]",
            "text/plain": [
              "<Figure size 432x288 with 1 Axes>"
            ]
          },
          "metadata": {
            "needs_background": "light"
          }
        }
      ]
    },
    {
      "cell_type": "code",
      "source": [
        "import pickle\n",
        "output = open('/content/output/UptakeGenes_trait.pkl', 'wb')\n",
        "pickle.dump(taxtran, output)\n",
        "output.close()"
      ],
      "metadata": {
        "id": "A7iaCQjjmjuY"
      },
      "execution_count": 160,
      "outputs": []
    },
    {
      "cell_type": "markdown",
      "source": [
        "*Enzyme-related parameters*"
      ],
      "metadata": {
        "id": "g3esaFoMBDbc"
      }
    },
    {
      "cell_type": "markdown",
      "source": [
        "Vmax"
      ],
      "metadata": {
        "id": "jlRrBgjHGexi"
      }
    },
    {
      "cell_type": "code",
      "source": [
        "m             = np.linspace(0,len(t)-1,len(t))  # Number of simulations\n",
        "m1            = np.linspace(0,(enzyme_n)-1,(enzyme_n))      # Number of enzymes\n",
        "m2            = np.linspace(0,(taxa_n)-1,(taxa_n))       # Number of taxa (10 taxa, but it can be change to 100)\n",
        "m4            = np.linspace(0,(subs_n)-1,(subs_n))      # Number of substrates\n",
        "enz_Taxa_PR   = {} # Contains biomass degrading specific enzymes for multiple runs\n",
        "\n",
        "for iii in m:\n",
        "  enz_taxa      = {} # Contains proportion having specific taxa per enzyme for 1 run ***.tolist()\n",
        "  for ii in m1:\n",
        "    temp        = []\n",
        "    for i in m2:\n",
        "      if EnzGenes[int(iii)][1094][0:len(m2)][\"Enz\"+str(int(ii)+1)][int(i)]==1:\n",
        "        temp.append((Bioma_tot[\"Run\"+str(int(iii)+1)][1095]/Bioma_taxa[\"Run\"+str(int(iii)+1)][1095])[int(i)])\n",
        "        enz_taxa[\"Enz\"+str(int(ii)+1)] = temp\n",
        "      else:\n",
        "        temp.append(0)\n",
        "        enz_taxa[\"Enz\"+str(int(ii)+1)] = temp\n",
        "  enz_Taxa_PR[\"Run\"+str(int(iii)+1)] = enz_taxa"
      ],
      "metadata": {
        "id": "H-w3G7DiHeGF"
      },
      "execution_count": 167,
      "outputs": []
    },
    {
      "cell_type": "code",
      "source": [
        "# enz_Taxa_PR[\"Run1\"]"
      ],
      "metadata": {
        "id": "qKaR2FjL8AcW"
      },
      "execution_count": null,
      "outputs": []
    },
    {
      "cell_type": "code",
      "source": [
        "m             = np.linspace(0,len(t)-1,len(t))  # Number of simulations\n",
        "m1            = np.linspace(0,(enzyme_n)-1,(enzyme_n))      # Number of enzymes\n",
        "m2            = np.linspace(0,(taxa_n)-1,(taxa_n))       # Number of taxa (10 taxa, but it can be change to 100)\n",
        "m4            = [\"DeadMic\",\"DeadEnz\",\"Cellulose\",\"Hemicellulose\",\n",
        "                 \"Starch\",\"Chitin\",\"Lignin\",\"Protein1\",\"Protein2\",\n",
        "                 \"Protein3\",\"OrgP1\",\"OrgP2\"]      # Number of substrates\n",
        "\n",
        "vmax0_total_R = {}\n",
        "\n",
        "for iii in m:\n",
        "  temp_sub = {}\n",
        "  for j in m4:\n",
        "    vmax0_Dead_E  = {}\n",
        "    for ii in m1:\n",
        "      temp = {}\n",
        "      temp_sum = []\n",
        "      for i in m2:\n",
        "        temp[\"Taxa\"+str(int(i)+1)] = (Vmax0[int(iii)][1094][0:enzyme_n][j][\"Enz\"+str(int(ii)+1)]*enz_Taxa_PR[\"Run\"+str(int(iii)+1)][\"Enz\"+str(int(ii)+1)][(int(i))])\n",
        "        temp_sum.append((Vmax0[int(iii)][1094][0:enzyme_n][j][\"Enz\"+str(int(ii)+1)]*enz_Taxa_PR[\"Run\"+str(int(iii)+1)][\"Enz\"+str(int(ii)+1)][(int(i))]))\n",
        "      vmax0_Dead_E[\"Enz\"+str(int(ii)+1)] = np.sum(temp_sum)/np.sum(enz_Taxa_PR[\"Run\"+str(int(iii)+1)][\"Enz\"+str(int(ii)+1)])\n",
        "    temp_sub[j] = vmax0_Dead_E\n",
        "  vmax0_total_R[\"Run\"+str(int(iii)+1)] = temp_sub\n"
      ],
      "metadata": {
        "colab": {
          "base_uri": "https://localhost:8080/"
        },
        "id": "1HSNf2vROV8q",
        "outputId": "5b690617-829b-4ffa-92f4-215286e002ca"
      },
      "execution_count": 168,
      "outputs": [
        {
          "output_type": "stream",
          "name": "stderr",
          "text": [
            "/usr/local/lib/python3.7/dist-packages/ipykernel_launcher.py:20: RuntimeWarning: invalid value encountered in double_scalars\n"
          ]
        }
      ]
    },
    {
      "cell_type": "markdown",
      "source": [
        "*Plotting histogram*"
      ],
      "metadata": {
        "id": "o59r_XaXXj19"
      }
    },
    {
      "cell_type": "code",
      "source": [
        "m             = np.linspace(0,len(t)-1,len(t))  # Number of simulations\n",
        "m1            = np.linspace(0,(enzyme_n)-1,(enzyme_n))      # Number of enzymes\n",
        "m4            = [\"DeadMic\",\"DeadEnz\",\"Cellulose\",\"Hemicellulose\",\n",
        "                 \"Starch\",\"Chitin\",\"Lignin\",\"Protein1\",\"Protein2\",\n",
        "                 \"Protein3\",\"OrgP1\",\"OrgP2\"]      # Number of substrates\n",
        "\n",
        "vmax0_plot = []\n",
        "\n",
        "for iii in m:\n",
        "  for j in m4:\n",
        "    for ii in m1:\n",
        "      vmax0_plot.append(vmax0_total_R[\"Run\"+str(int(iii)+1)][j][\"Enz\"+str(int(ii)+1)])\n",
        "\n",
        "vmax0_plot_nonan = [x for x in vmax0_plot if ~np.isnan(x)]"
      ],
      "metadata": {
        "id": "5sBNrL3Cs-mg"
      },
      "execution_count": 169,
      "outputs": []
    },
    {
      "cell_type": "code",
      "source": [
        "#plt.hist(vmax0_plot_nonan)"
      ],
      "metadata": {
        "colab": {
          "base_uri": "https://localhost:8080/",
          "height": 356
        },
        "id": "dWQMHG5-Ybnb",
        "outputId": "5d95c7b3-cc80-490c-c8c7-b81341cd6280"
      },
      "execution_count": 170,
      "outputs": [
        {
          "output_type": "execute_result",
          "data": {
            "text/plain": [
              "(array([280., 409., 437., 416., 411., 388., 386., 407., 421., 405.]),\n",
              " array([ 3.39086401,  8.04948816, 12.70811231, 17.36673646, 22.02536061,\n",
              "        26.68398476, 31.34260891, 36.00123307, 40.65985722, 45.31848137,\n",
              "        49.97710552]),\n",
              " <a list of 10 Patch objects>)"
            ]
          },
          "metadata": {},
          "execution_count": 170
        },
        {
          "output_type": "display_data",
          "data": {
            "image/png": "[encoded data removed]",
            "text/plain": [
              "<Figure size 432x288 with 1 Axes>"
            ]
          },
          "metadata": {
            "needs_background": "light"
          }
        }
      ]
    },
    {
      "cell_type": "code",
      "source": [
        "import pickle\n",
        "output = open('/content/output/Vmax.pkl', 'wb')\n",
        "pickle.dump(vmax0_total_R, output)\n",
        "output.close()"
      ],
      "metadata": {
        "id": "myfpXJdemwZg"
      },
      "execution_count": null,
      "outputs": []
    },
    {
      "cell_type": "markdown",
      "source": [
        "Km0"
      ],
      "metadata": {
        "id": "7rBPDB4k0vkQ"
      }
    },
    {
      "cell_type": "code",
      "source": [
        "m             = np.linspace(0,len(t)-1,len(t))  # Number of simulations\n",
        "m1            = np.linspace(0,(enzyme_n)-1,(enzyme_n))      # Number of enzymes\n",
        "m2            = np.linspace(0,(taxa_n)-1,(taxa_n))       # Number of taxa (10 taxa, but it can be change to 100)\n",
        "m4            = [\"DeadMic\",\"DeadEnz\",\"Cellulose\",\"Hemicellulose\",\n",
        "                 \"Starch\",\"Chitin\",\"Lignin\",\"Protein1\",\"Protein2\",\n",
        "                 \"Protein3\",\"OrgP1\",\"OrgP2\"]      # Number of substrates\n",
        "\n",
        "Km0_total_R  = {}\n",
        "\n",
        "for iii in m:\n",
        "  temp_sub = {}\n",
        "  for j in m4:\n",
        "    Km0_Dead_E  = {}\n",
        "    for ii in m1:\n",
        "      temp = {}\n",
        "      temp_sum = []\n",
        "      for i in m2:\n",
        "        temp[\"Taxa\"+str(int(i)+1)] = (Km0[int(iii)][1094][0:subs_n].T[j][\"Enz\"+str(int(ii)+1)]*enz_Taxa_PR[\"Run\"+str(int(iii)+1)][\"Enz\"+str(int(ii)+1)][(int(i))])\n",
        "        temp_sum.append((Km0[int(iii)][1094][0:subs_n].T[j][\"Enz\"+str(int(ii)+1)]*enz_Taxa_PR[\"Run\"+str(int(iii)+1)][\"Enz\"+str(int(ii)+1)][(int(i))]))\n",
        "      Km0_Dead_E[\"Enz\"+str(int(ii)+1)] = np.sum(temp_sum)/np.sum(enz_Taxa_PR[\"Run\"+str(int(iii)+1)][\"Enz\"+str(int(ii)+1)])\n",
        "    temp_sub[j] = Km0_Dead_E\n",
        "  Km0_total_R[\"Run\"+str(int(iii)+1)] = temp_sub\n"
      ],
      "metadata": {
        "colab": {
          "base_uri": "https://localhost:8080/"
        },
        "id": "5vpJEsh_02rE",
        "outputId": "21dc6d10-be02-4906-8d4d-7edeabe41e06"
      },
      "execution_count": 171,
      "outputs": [
        {
          "output_type": "stream",
          "name": "stderr",
          "text": [
            "/usr/local/lib/python3.7/dist-packages/ipykernel_launcher.py:20: RuntimeWarning: invalid value encountered in double_scalars\n"
          ]
        }
      ]
    },
    {
      "cell_type": "code",
      "source": [
        "# Km0_total_R[\"Run1\"]"
      ],
      "metadata": {
        "id": "Hwk6TkJT4bU5"
      },
      "execution_count": null,
      "outputs": []
    },
    {
      "cell_type": "markdown",
      "source": [
        "*Plotting histogram*"
      ],
      "metadata": {
        "id": "BTAzIiHjbBcJ"
      }
    },
    {
      "cell_type": "code",
      "source": [
        "m             = np.linspace(0,len(t)-1,len(t))  # Number of simulations\n",
        "m1            = np.linspace(0,(enzyme_n)-1,(enzyme_n))      # Number of enzymes\n",
        "m4            = [\"DeadMic\",\"DeadEnz\",\"Cellulose\",\"Hemicellulose\",\n",
        "                 \"Starch\",\"Chitin\",\"Lignin\",\"Protein1\",\"Protein2\",\n",
        "                 \"Protein3\",\"OrgP1\",\"OrgP2\"]      # Number of substrates\n",
        "\n",
        "Km0_total_R_plot = []\n",
        "\n",
        "for iii in m:\n",
        "  for j in m4:\n",
        "    for ii in m1:\n",
        "      Km0_total_R_plot.append(Km0_total_R[\"Run\"+str(int(iii)+1)][j][\"Enz\"+str(int(ii)+1)])\n",
        "\n",
        "Km0_total_R_nonan = [x for x in Km0_total_R_plot if ~np.isnan(x)]"
      ],
      "metadata": {
        "id": "i--GuhSMauK1"
      },
      "execution_count": 172,
      "outputs": []
    },
    {
      "cell_type": "code",
      "source": [
        "#plt.hist(Km0_total_R_nonan)\n",
        "#np.min(Km0_total_R_nonan)"
      ],
      "metadata": {
        "colab": {
          "base_uri": "https://localhost:8080/",
          "height": 283
        },
        "id": "6Ng_eueba4io",
        "outputId": "3b8cabb4-24b4-4498-c641-91077904324b"
      },
      "execution_count": 173,
      "outputs": [
        {
          "output_type": "execute_result",
          "data": {
            "text/plain": [
              "3.3908640136407735"
            ]
          },
          "metadata": {},
          "execution_count": 173
        },
        {
          "output_type": "display_data",
          "data": {
            "image/png": "[encoded data removed]",
            "text/plain": [
              "<Figure size 432x288 with 1 Axes>"
            ]
          },
          "metadata": {
            "needs_background": "light"
          }
        }
      ]
    },
    {
      "cell_type": "code",
      "source": [
        "import pickle\n",
        "output = open('/content/output/Km0.pkl', 'wb')\n",
        "pickle.dump(Km0_total_R, output)\n",
        "output.close()"
      ],
      "metadata": {
        "id": "YQDvU-Hkm7WW"
      },
      "execution_count": 174,
      "outputs": []
    },
    {
      "cell_type": "markdown",
      "source": [
        "*Uptake related parameters*"
      ],
      "metadata": {
        "id": "x8Zim7cx5D82"
      }
    },
    {
      "cell_type": "markdown",
      "source": [
        "Uptake_Vmax0"
      ],
      "metadata": {
        "id": "3-xIEsx56F5n"
      }
    },
    {
      "cell_type": "code",
      "source": [
        "m             = np.linspace(0,len(t)-1,len(t))  # Number of simulations\n",
        "m1            = [\"Mon13\",\"Mon14\",\"Mon1\",\"Mon2\",\"Mon3\",\"Mon4\",\n",
        "                 \"Mon5\",\"Mon6\",\"Mon7\",\"Mon8\",\"Mon9\",\n",
        "                 \"Mon10\",\"Mon11\",\"Mon12\"]      # Number of monomers\n",
        "m2            = np.linspace(0,(taxa_n)-1,(taxa_n))       # Number of taxa (10 taxa, but it can be change to 100)\n",
        "\n",
        "upt_Taxa_PR   = {} # Contains biomass degrading specific enzymes for multiple runs\n",
        "\n",
        "for iii in m:\n",
        "  enz_taxa      = {} # Contains proportion having specific taxa per enzyme for 1 run ***.tolist()\n",
        "  for ii in m1:\n",
        "    temp        = []\n",
        "    for i in m2:\n",
        "      if UptakeGenes[int(iii)][1094][0:len(m2)].rename(columns={'NH4':'Mon13','PO4':'Mon14','DeadMic':'Mon1','DeadEnz':'Mon2'})[ii][int(i)]==1:\n",
        "        temp.append((Bioma_tot[\"Run\"+str(int(iii)+1)][1095]/Bioma_taxa[\"Run\"+str(int(iii)+1)][1095])[int(i)])\n",
        "        enz_taxa[ii] = temp\n",
        "      else:\n",
        "        temp.append(0)\n",
        "        enz_taxa[ii] = temp\n",
        "  upt_Taxa_PR[\"Run\"+str(int(iii)+1)] = enz_taxa"
      ],
      "metadata": {
        "id": "UiOrBOozBmmY"
      },
      "execution_count": 175,
      "outputs": []
    },
    {
      "cell_type": "code",
      "source": [
        "# upt_Taxa_PR[\"Run1\"]"
      ],
      "metadata": {
        "id": "_Yvry-nc76bX"
      },
      "execution_count": null,
      "outputs": []
    },
    {
      "cell_type": "code",
      "source": [
        "m             = np.linspace(0,len(t)-1,len(t))  # Number of simulations\n",
        "m1            = [\"Mon13\",\"Mon14\",\"Mon1\",\"Mon2\",\"Mon3\",\"Mon4\",\n",
        "                 \"Mon5\",\"Mon6\",\"Mon7\",\"Mon8\",\"Mon9\",\n",
        "                 \"Mon10\",\"Mon11\",\"Mon12\"]      # Number of monomers\n",
        "m2            = np.linspace(0,(taxa_n)-1,(taxa_n))       # Number of taxa (10 taxa, but it can be change to 100)\n",
        "m4            = [\"Upt1\",\"Upt2\",\"Upt3\",\"Upt4\",\n",
        "                 \"Upt5\",\"Upt6\",\"Upt7\",\"Upt8\",\"Upt9\",\n",
        "                 \"Upt10\",\"Upt11\",\"Upt12\",\"Upt13\",\"Upt14\"]      # Number of transporters\n",
        "\n",
        "mon_n        = 14 # Number of substrates\n",
        "\n",
        "Vmax0_uptake_R = {}\n",
        "\n",
        "for iii in m:\n",
        "  temp_sub = {}\n",
        "  for j in m4:\n",
        "    vmax0_Dead_E  = {}\n",
        "    for ii in m1:\n",
        "      temp = {}\n",
        "      temp_sum = []\n",
        "      for i in m2:\n",
        "        temp[\"Taxa\"+str(int(i)+1)] = (Uptake_Vmax0[int(iii)][1094][0:mon_n][j][ii]*upt_Taxa_PR[\"Run\"+str(int(iii)+1)][ii][(int(i))])\n",
        "        temp_sum.append((Uptake_Vmax0[int(iii)][1094][0:mon_n][j][ii]*upt_Taxa_PR[\"Run\"+str(int(iii)+1)][ii][(int(i))]))\n",
        "      vmax0_Dead_E[ii] = np.sum(temp_sum)/np.sum(upt_Taxa_PR[\"Run\"+str(int(iii)+1)][ii])\n",
        "    temp_sub[j] = vmax0_Dead_E\n",
        "  Vmax0_uptake_R[\"Run\"+str(int(iii)+1)] = temp_sub\n"
      ],
      "metadata": {
        "colab": {
          "base_uri": "https://localhost:8080/"
        },
        "id": "HhplVLfOcILs",
        "outputId": "0c12e5ac-7c64-4964-85b0-a628e1adcba0"
      },
      "execution_count": 176,
      "outputs": [
        {
          "output_type": "stream",
          "name": "stderr",
          "text": [
            "/usr/local/lib/python3.7/dist-packages/ipykernel_launcher.py:24: RuntimeWarning: invalid value encountered in double_scalars\n"
          ]
        }
      ]
    },
    {
      "cell_type": "markdown",
      "source": [
        "*Plotting histogram*"
      ],
      "metadata": {
        "id": "ynHc8Sf3bOhk"
      }
    },
    {
      "cell_type": "code",
      "source": [
        "m             = np.linspace(0,len(t)-1,len(t))  # Number of simulations\n",
        "m1            = [\"Mon13\",\"Mon14\",\"Mon1\",\"Mon2\",\"Mon3\",\"Mon4\",\n",
        "                 \"Mon5\",\"Mon6\",\"Mon7\",\"Mon8\",\"Mon9\",\n",
        "                 \"Mon10\",\"Mon11\",\"Mon12\"]      # Number of monomers\n",
        "m4            = [\"Upt1\",\"Upt2\",\"Upt3\",\"Upt4\",\n",
        "                 \"Upt5\",\"Upt6\",\"Upt7\",\"Upt8\",\"Upt9\",\n",
        "                 \"Upt10\",\"Upt11\",\"Upt12\",\"Upt13\",\"Upt14\"]      # Number of transporters\n",
        "\n",
        "vmax0_uptake_R_plot = []\n",
        "\n",
        "for iii in m:\n",
        "  for j in m4:\n",
        "    for ii in m1:\n",
        "      vmax0_uptake_R_plot.append(Vmax0_uptake_R[\"Run\"+str(int(iii)+1)][j][ii])\n",
        "\n",
        "vmax0_uptake_R_nonan = [x for x in vmax0_uptake_R_plot if ~np.isnan(x)]"
      ],
      "metadata": {
        "id": "bV6DApP-bUCb"
      },
      "execution_count": 177,
      "outputs": []
    },
    {
      "cell_type": "code",
      "source": [
        "#plt.hist(vmax0_uptake_R_nonan)\n",
        "#np.min(vmax0_uptake_R_nonan)"
      ],
      "metadata": {
        "colab": {
          "base_uri": "https://localhost:8080/",
          "height": 283
        },
        "id": "xgUraU2ebUeG",
        "outputId": "272d96af-e248-4c9c-f27b-b97663230274"
      },
      "execution_count": 178,
      "outputs": [
        {
          "output_type": "execute_result",
          "data": {
            "text/plain": [
              "0.34494221210479736"
            ]
          },
          "metadata": {},
          "execution_count": 178
        },
        {
          "output_type": "display_data",
          "data": {
            "image/png": "[encoded data removed]",
            "text/plain": [
              "<Figure size 432x288 with 1 Axes>"
            ]
          },
          "metadata": {
            "needs_background": "light"
          }
        }
      ]
    },
    {
      "cell_type": "code",
      "source": [
        "import pickle\n",
        "output = open('/content/output/Uptake_Vmax0.pkl', 'wb')\n",
        "pickle.dump(Vmax0_uptake_R, output)\n",
        "output.close()"
      ],
      "metadata": {
        "id": "8t5Bz-nQnHaA"
      },
      "execution_count": 179,
      "outputs": []
    },
    {
      "cell_type": "markdown",
      "source": [
        "Uptake_Km0"
      ],
      "metadata": {
        "id": "fOrj0faTa5rF"
      }
    },
    {
      "cell_type": "code",
      "source": [
        "m             = np.linspace(0,len(t)-1,len(t))  # Number of simulations\n",
        "m1            = [\"Mon13\",\"Mon14\",\"Mon1\",\"Mon2\",\"Mon3\",\"Mon4\",\n",
        "                 \"Mon5\",\"Mon6\",\"Mon7\",\"Mon8\",\"Mon9\",\n",
        "                 \"Mon10\",\"Mon11\",\"Mon12\"]      # Number of monomers\n",
        "m2            = np.linspace(0,(taxa_n)-1,(taxa_n))       # Number of taxa (10 taxa, but it can be change to 100)\n",
        "m4            = [\"Upt1\",\"Upt2\",\"Upt3\",\"Upt4\",\n",
        "                 \"Upt5\",\"Upt6\",\"Upt7\",\"Upt8\",\"Upt9\",\n",
        "                 \"Upt10\",\"Upt11\",\"Upt12\",\"Upt13\",\"Upt14\"]      # Number of transporters\n",
        "\n",
        "Km0_uptake_R = {}\n",
        "\n",
        "for iii in m:\n",
        "  temp_sub = {}\n",
        "  for j in m4:\n",
        "    vmax0_Dead_E  = {}\n",
        "    for ii in m1:\n",
        "      temp = {}\n",
        "      temp_sum = []\n",
        "      for i in m2:\n",
        "        temp[\"Taxa\"+str(int(i)+1)] = (Uptake_Km0[int(iii)][1094][0:len(m4)][j][ii]*upt_Taxa_PR[\"Run\"+str(int(iii)+1)][ii][(int(i))])\n",
        "        temp_sum.append((Uptake_Km0[int(iii)][1094][0:len(m4)][j][ii]*upt_Taxa_PR[\"Run\"+str(int(iii)+1)][ii][(int(i))]))\n",
        "      vmax0_Dead_E[ii] = np.sum(temp_sum)/np.sum(upt_Taxa_PR[\"Run\"+str(int(iii)+1)][ii])\n",
        "    temp_sub[j] = vmax0_Dead_E\n",
        "  Km0_uptake_R[\"Run\"+str(int(iii)+1)] = temp_sub"
      ],
      "metadata": {
        "colab": {
          "base_uri": "https://localhost:8080/"
        },
        "id": "JUc4s_1GCjg_",
        "outputId": "8c850839-db9f-4e96-ab7b-856fc5506662"
      },
      "execution_count": 180,
      "outputs": [
        {
          "output_type": "stream",
          "name": "stderr",
          "text": [
            "/usr/local/lib/python3.7/dist-packages/ipykernel_launcher.py:22: RuntimeWarning: invalid value encountered in double_scalars\n"
          ]
        }
      ]
    },
    {
      "cell_type": "markdown",
      "source": [
        "*Plotting histogram*"
      ],
      "metadata": {
        "id": "vxxP-V9Idw5k"
      }
    },
    {
      "cell_type": "code",
      "source": [
        "m             = np.linspace(0,len(t)-1,len(t))  # Number of simulations\n",
        "m1            = [\"Mon13\",\"Mon14\",\"Mon1\",\"Mon2\",\"Mon3\",\"Mon4\",\n",
        "                 \"Mon5\",\"Mon6\",\"Mon7\",\"Mon8\",\"Mon9\",\n",
        "                 \"Mon10\",\"Mon11\",\"Mon12\"]      # Number of monomers\n",
        "m4            = [\"Upt1\",\"Upt2\",\"Upt3\",\"Upt4\",\n",
        "                 \"Upt5\",\"Upt6\",\"Upt7\",\"Upt8\",\"Upt9\",\n",
        "                 \"Upt10\",\"Upt11\",\"Upt12\",\"Upt13\",\"Upt14\"]      # Number of transporters\n",
        "\n",
        "Km0_uptake_R_plot = []\n",
        "\n",
        "for iii in m:\n",
        "  for j in m4:\n",
        "    for ii in m1:\n",
        "      Km0_uptake_R_plot.append(Km0_uptake_R[\"Run\"+str(int(iii)+1)][j][ii])\n",
        "\n",
        "Km0_uptake_R_nonan = [x for x in Km0_uptake_R_plot if ~np.isnan(x)]"
      ],
      "metadata": {
        "id": "ZOCNuzXCdxVK"
      },
      "execution_count": 181,
      "outputs": []
    },
    {
      "cell_type": "code",
      "source": [
        "#plt.hist(Km0_uptake_R_nonan)\n",
        "#np.min(Km0_uptake_R_nonan)"
      ],
      "metadata": {
        "colab": {
          "base_uri": "https://localhost:8080/",
          "height": 283
        },
        "id": "xwjScX1xdxxm",
        "outputId": "5f0dfd42-e9fe-415e-be21-bb89401c8568"
      },
      "execution_count": 182,
      "outputs": [
        {
          "output_type": "execute_result",
          "data": {
            "text/plain": [
              "0.06898844242095947"
            ]
          },
          "metadata": {},
          "execution_count": 182
        },
        {
          "output_type": "display_data",
          "data": {
            "image/png": "[encoded data removed]",
            "text/plain": [
              "<Figure size 432x288 with 1 Axes>"
            ]
          },
          "metadata": {
            "needs_background": "light"
          }
        }
      ]
    },
    {
      "cell_type": "code",
      "source": [
        "import pickle\n",
        "output = open('/content/output/Uptake_Km0.pkl', 'wb')\n",
        "pickle.dump(Km0_uptake_R, output)\n",
        "output.close()"
      ],
      "metadata": {
        "id": "AXjvSNclp4vp"
      },
      "execution_count": 183,
      "outputs": []
    },
    {
      "cell_type": "markdown",
      "source": [
        "Additional parameters"
      ],
      "metadata": {
        "id": "_NzQObr9rzyw"
      }
    },
    {
      "cell_type": "markdown",
      "source": [
        "*UptakeGenes*"
      ],
      "metadata": {
        "id": "ZxE1Kd8Xr3Pt"
      }
    },
    {
      "cell_type": "code",
      "source": [
        "import pickle\n",
        "output = open('/content/output/UptakeGenes.pkl', 'wb')\n",
        "pickle.dump(UptakeGenes, output)\n",
        "output.close()"
      ],
      "metadata": {
        "id": "viGxEvEwr7Vw"
      },
      "execution_count": 185,
      "outputs": []
    },
    {
      "cell_type": "markdown",
      "source": [
        "*EnzGenes*"
      ],
      "metadata": {
        "id": "2ivE7-XLsCq4"
      }
    },
    {
      "cell_type": "code",
      "source": [
        "import pickle\n",
        "output = open('/content/output/EnzGenes.pkl', 'wb')\n",
        "pickle.dump(EnzGenes, output)\n",
        "output.close()"
      ],
      "metadata": {
        "id": "UoLgskXrsC34"
      },
      "execution_count": 189,
      "outputs": []
    },
    {
      "cell_type": "markdown",
      "source": [
        "*ReqEnz_dfA*"
      ],
      "metadata": {
        "id": "UFU-mO9FsIgQ"
      }
    },
    {
      "cell_type": "code",
      "source": [
        "import pickle\n",
        "output = open('/content/output/ReqEnz_dfA.pkl', 'wb')\n",
        "pickle.dump(ReqEnz_dfA, output)\n",
        "output.close()"
      ],
      "metadata": {
        "id": "NzOlTfLksIzY"
      },
      "execution_count": 188,
      "outputs": []
    },
    {
      "cell_type": "markdown",
      "source": [
        "*Microbes_pp*"
      ],
      "metadata": {
        "id": "GtxAOJ17sSU4"
      }
    },
    {
      "cell_type": "code",
      "source": [
        "import pickle\n",
        "output = open('/content/output/Microbes_pp.pkl', 'wb')\n",
        "pickle.dump(Microbes_pp, output)\n",
        "output.close()"
      ],
      "metadata": {
        "id": "BZNjSM7GsaRn"
      },
      "execution_count": 187,
      "outputs": []
    },
    {
      "cell_type": "markdown",
      "source": [
        "*MinRatios*"
      ],
      "metadata": {
        "id": "omoO67tksW9-"
      }
    },
    {
      "cell_type": "code",
      "source": [
        "import pickle\n",
        "output = open('/content/output/MinRatios.pkl', 'wb')\n",
        "pickle.dump(MinRatios, output)\n",
        "output.close()"
      ],
      "metadata": {
        "id": "hWmJ2kXCsdmg"
      },
      "execution_count": 186,
      "outputs": []
    },
    {
      "cell_type": "markdown",
      "metadata": {
        "id": "hch3N6lSncnq"
      },
      "source": [
        "Storing parameters. Note: This is only for the \"EnzGenesA\" output (considered by me as a parameters) that contains whether the taxa have or not the corresponding enzymes in each run of the simulations. Since we are producing a 3D array, we need to pickle to save it."
      ]
    },
    {
      "cell_type": "markdown",
      "metadata": {
        "id": "-c-xuBHUoIWD"
      },
      "source": [
        "This is how we unpickle the file for further analysis"
      ]
    },
    {
      "cell_type": "code",
      "execution_count": 184,
      "metadata": {
        "id": "ANzVDeDonODL"
      },
      "outputs": [],
      "source": [
        "#import pprint, pickle\n",
        "\n",
        "#pkl_file = open('/content/output/data.pkl', 'rb')\n",
        "\n",
        "#data1 = pickle.load(pkl_file)\n",
        "#pprint.pprint(data1)\n",
        "\n",
        "#pkl_file.close()"
      ]
    }
  ],
  "metadata": {
    "colab": {
      "collapsed_sections": [],
      "name": "DEMENT_Test_A.ipynb",
      "provenance": [],
      "include_colab_link": true
    },
    "kernelspec": {
      "display_name": "Python 3",
      "name": "python3"
    },
    "language_info": {
      "name": "python"
    }
  },
  "nbformat": 4,
  "nbformat_minor": 0
}